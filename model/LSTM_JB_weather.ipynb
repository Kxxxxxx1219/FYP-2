{
 "cells": [
  {
   "cell_type": "code",
   "execution_count": 1,
   "id": "6aa97fdc-7b41-43ea-8dd6-6d12ec3d2cee",
   "metadata": {},
   "outputs": [],
   "source": [
    "import pandas as pd\n",
    "import numpy as np\n",
    "from sklearn.preprocessing import LabelEncoder\n",
    "from sklearn.preprocessing import StandardScaler\n",
    "from sklearn.preprocessing import MinMaxScaler\n",
    "from datetime import datetime\n",
    "import tensorflow as tf\n",
    "from tensorflow.keras.models import Sequential\n",
    "from tensorflow.keras.layers import LSTM, Dense, Input\n",
    "from sklearn.model_selection import train_test_split\n",
    "from tensorflow.keras.optimizers import Adam\n",
    "from tensorflow.keras.metrics import RootMeanSquaredError\n",
    "import matplotlib.pyplot as plt\n",
    "from io import StringIO\n",
    "import seaborn as sns\n",
    "from sklearn.metrics import mean_squared_error\n",
    "from tensorflow.keras.callbacks import ModelCheckpoint\n",
    "from tensorflow.keras.layers import Bidirectional, Dropout\n",
    "from tensorflow.keras.callbacks import EarlyStopping\n",
    "from tensorflow.keras.models import load_model\n",
    "import tensorflow as tf\n",
    "import os\n",
    "import random\n",
    "import torch"
   ]
  },
  {
   "cell_type": "code",
   "execution_count": 2,
   "id": "5b6a4091-cd39-4943-949a-958f9bf83447",
   "metadata": {},
   "outputs": [],
   "source": [
    "df = pd.read_csv('johor_senai_weather_data.csv')"
   ]
  },
  {
   "cell_type": "code",
   "execution_count": 3,
   "id": "38a27d5b-b3fe-4dc4-a458-a3677bac00d6",
   "metadata": {},
   "outputs": [
    {
     "data": {
      "text/html": [
       "<div>\n",
       "<style scoped>\n",
       "    .dataframe tbody tr th:only-of-type {\n",
       "        vertical-align: middle;\n",
       "    }\n",
       "\n",
       "    .dataframe tbody tr th {\n",
       "        vertical-align: top;\n",
       "    }\n",
       "\n",
       "    .dataframe thead th {\n",
       "        text-align: right;\n",
       "    }\n",
       "</style>\n",
       "<table border=\"1\" class=\"dataframe\">\n",
       "  <thead>\n",
       "    <tr style=\"text-align: right;\">\n",
       "      <th></th>\n",
       "      <th>date</th>\n",
       "      <th>temp_celsius</th>\n",
       "      <th>temp_fahrenheit</th>\n",
       "      <th>condition</th>\n",
       "      <th>wind_speed_mph</th>\n",
       "      <th>pressure</th>\n",
       "      <th>humidity(%)</th>\n",
       "    </tr>\n",
       "  </thead>\n",
       "  <tbody>\n",
       "    <tr>\n",
       "      <th>0</th>\n",
       "      <td>2014-01-01 00:00:00</td>\n",
       "      <td>23.888889</td>\n",
       "      <td>75</td>\n",
       "      <td>Mostly Cloudy</td>\n",
       "      <td>1</td>\n",
       "      <td>29.74</td>\n",
       "      <td>94</td>\n",
       "    </tr>\n",
       "    <tr>\n",
       "      <th>1</th>\n",
       "      <td>2014-01-01 01:00:00</td>\n",
       "      <td>23.888889</td>\n",
       "      <td>75</td>\n",
       "      <td>Mostly Cloudy</td>\n",
       "      <td>2</td>\n",
       "      <td>29.74</td>\n",
       "      <td>94</td>\n",
       "    </tr>\n",
       "    <tr>\n",
       "      <th>2</th>\n",
       "      <td>2014-01-01 02:00:00</td>\n",
       "      <td>23.888889</td>\n",
       "      <td>75</td>\n",
       "      <td>Mostly Cloudy</td>\n",
       "      <td>1</td>\n",
       "      <td>29.71</td>\n",
       "      <td>94</td>\n",
       "    </tr>\n",
       "    <tr>\n",
       "      <th>3</th>\n",
       "      <td>2014-01-01 03:00:00</td>\n",
       "      <td>23.888889</td>\n",
       "      <td>75</td>\n",
       "      <td>Mostly Cloudy</td>\n",
       "      <td>1</td>\n",
       "      <td>29.71</td>\n",
       "      <td>94</td>\n",
       "    </tr>\n",
       "    <tr>\n",
       "      <th>4</th>\n",
       "      <td>2014-01-01 04:00:00</td>\n",
       "      <td>23.888889</td>\n",
       "      <td>75</td>\n",
       "      <td>Mostly Cloudy</td>\n",
       "      <td>1</td>\n",
       "      <td>29.68</td>\n",
       "      <td>94</td>\n",
       "    </tr>\n",
       "    <tr>\n",
       "      <th>...</th>\n",
       "      <td>...</td>\n",
       "      <td>...</td>\n",
       "      <td>...</td>\n",
       "      <td>...</td>\n",
       "      <td>...</td>\n",
       "      <td>...</td>\n",
       "      <td>...</td>\n",
       "    </tr>\n",
       "    <tr>\n",
       "      <th>95184</th>\n",
       "      <td>2024-09-24 20:00:00</td>\n",
       "      <td>25.000000</td>\n",
       "      <td>77</td>\n",
       "      <td>Fair</td>\n",
       "      <td>2</td>\n",
       "      <td>29.65</td>\n",
       "      <td>94</td>\n",
       "    </tr>\n",
       "    <tr>\n",
       "      <th>95185</th>\n",
       "      <td>2024-09-24 21:00:00</td>\n",
       "      <td>25.000000</td>\n",
       "      <td>77</td>\n",
       "      <td>Fair</td>\n",
       "      <td>3</td>\n",
       "      <td>29.68</td>\n",
       "      <td>94</td>\n",
       "    </tr>\n",
       "    <tr>\n",
       "      <th>95186</th>\n",
       "      <td>2024-09-24 22:00:00</td>\n",
       "      <td>25.000000</td>\n",
       "      <td>77</td>\n",
       "      <td>Fair</td>\n",
       "      <td>3</td>\n",
       "      <td>29.68</td>\n",
       "      <td>94</td>\n",
       "    </tr>\n",
       "    <tr>\n",
       "      <th>95187</th>\n",
       "      <td>2024-09-24 23:00:00</td>\n",
       "      <td>25.000000</td>\n",
       "      <td>77</td>\n",
       "      <td>Fair</td>\n",
       "      <td>1</td>\n",
       "      <td>29.71</td>\n",
       "      <td>94</td>\n",
       "    </tr>\n",
       "    <tr>\n",
       "      <th>95188</th>\n",
       "      <td>2024-09-25 00:00:00</td>\n",
       "      <td>25.000000</td>\n",
       "      <td>77</td>\n",
       "      <td>Fair</td>\n",
       "      <td>2</td>\n",
       "      <td>29.71</td>\n",
       "      <td>94</td>\n",
       "    </tr>\n",
       "  </tbody>\n",
       "</table>\n",
       "<p>95189 rows × 7 columns</p>\n",
       "</div>"
      ],
      "text/plain": [
       "                      date  temp_celsius  temp_fahrenheit      condition  \\\n",
       "0      2014-01-01 00:00:00     23.888889               75  Mostly Cloudy   \n",
       "1      2014-01-01 01:00:00     23.888889               75  Mostly Cloudy   \n",
       "2      2014-01-01 02:00:00     23.888889               75  Mostly Cloudy   \n",
       "3      2014-01-01 03:00:00     23.888889               75  Mostly Cloudy   \n",
       "4      2014-01-01 04:00:00     23.888889               75  Mostly Cloudy   \n",
       "...                    ...           ...              ...            ...   \n",
       "95184  2024-09-24 20:00:00     25.000000               77           Fair   \n",
       "95185  2024-09-24 21:00:00     25.000000               77           Fair   \n",
       "95186  2024-09-24 22:00:00     25.000000               77           Fair   \n",
       "95187  2024-09-24 23:00:00     25.000000               77           Fair   \n",
       "95188  2024-09-25 00:00:00     25.000000               77           Fair   \n",
       "\n",
       "       wind_speed_mph  pressure  humidity(%)  \n",
       "0                   1     29.74           94  \n",
       "1                   2     29.74           94  \n",
       "2                   1     29.71           94  \n",
       "3                   1     29.71           94  \n",
       "4                   1     29.68           94  \n",
       "...               ...       ...          ...  \n",
       "95184               2     29.65           94  \n",
       "95185               3     29.68           94  \n",
       "95186               3     29.68           94  \n",
       "95187               1     29.71           94  \n",
       "95188               2     29.71           94  \n",
       "\n",
       "[95189 rows x 7 columns]"
      ]
     },
     "execution_count": 3,
     "metadata": {},
     "output_type": "execute_result"
    }
   ],
   "source": [
    "df"
   ]
  },
  {
   "cell_type": "code",
   "execution_count": 4,
   "id": "babf354a-309d-48bb-a3a0-925ba3d51f47",
   "metadata": {},
   "outputs": [
    {
     "name": "stdout",
     "output_type": "stream",
     "text": [
      "<class 'pandas.core.frame.DataFrame'>\n",
      "RangeIndex: 95189 entries, 0 to 95188\n",
      "Data columns (total 7 columns):\n",
      " #   Column           Non-Null Count  Dtype  \n",
      "---  ------           --------------  -----  \n",
      " 0   date             95189 non-null  object \n",
      " 1   temp_celsius     95189 non-null  float64\n",
      " 2   temp_fahrenheit  95189 non-null  int64  \n",
      " 3   condition        95189 non-null  object \n",
      " 4   wind_speed_mph   95189 non-null  int64  \n",
      " 5   pressure         95189 non-null  float64\n",
      " 6   humidity(%)      95189 non-null  int64  \n",
      "dtypes: float64(2), int64(3), object(2)\n",
      "memory usage: 5.1+ MB\n"
     ]
    }
   ],
   "source": [
    "df.info()"
   ]
  },
  {
   "cell_type": "code",
   "execution_count": 5,
   "id": "27a384a0-a947-48e0-8850-33c4877cf273",
   "metadata": {},
   "outputs": [
    {
     "data": {
      "text/html": [
       "<div>\n",
       "<style scoped>\n",
       "    .dataframe tbody tr th:only-of-type {\n",
       "        vertical-align: middle;\n",
       "    }\n",
       "\n",
       "    .dataframe tbody tr th {\n",
       "        vertical-align: top;\n",
       "    }\n",
       "\n",
       "    .dataframe thead th {\n",
       "        text-align: right;\n",
       "    }\n",
       "</style>\n",
       "<table border=\"1\" class=\"dataframe\">\n",
       "  <thead>\n",
       "    <tr style=\"text-align: right;\">\n",
       "      <th></th>\n",
       "      <th>date</th>\n",
       "      <th>temp_celsius</th>\n",
       "      <th>temp_fahrenheit</th>\n",
       "      <th>condition</th>\n",
       "      <th>wind_speed_mph</th>\n",
       "      <th>pressure</th>\n",
       "      <th>humidity(%)</th>\n",
       "    </tr>\n",
       "  </thead>\n",
       "  <tbody>\n",
       "    <tr>\n",
       "      <th>0</th>\n",
       "      <td>2014-01-01 00:00:00</td>\n",
       "      <td>23.888889</td>\n",
       "      <td>75</td>\n",
       "      <td>Mostly Cloudy</td>\n",
       "      <td>1</td>\n",
       "      <td>29.74</td>\n",
       "      <td>94</td>\n",
       "    </tr>\n",
       "    <tr>\n",
       "      <th>1</th>\n",
       "      <td>2014-01-01 01:00:00</td>\n",
       "      <td>23.888889</td>\n",
       "      <td>75</td>\n",
       "      <td>Mostly Cloudy</td>\n",
       "      <td>2</td>\n",
       "      <td>29.74</td>\n",
       "      <td>94</td>\n",
       "    </tr>\n",
       "    <tr>\n",
       "      <th>2</th>\n",
       "      <td>2014-01-01 02:00:00</td>\n",
       "      <td>23.888889</td>\n",
       "      <td>75</td>\n",
       "      <td>Mostly Cloudy</td>\n",
       "      <td>1</td>\n",
       "      <td>29.71</td>\n",
       "      <td>94</td>\n",
       "    </tr>\n",
       "    <tr>\n",
       "      <th>3</th>\n",
       "      <td>2014-01-01 03:00:00</td>\n",
       "      <td>23.888889</td>\n",
       "      <td>75</td>\n",
       "      <td>Mostly Cloudy</td>\n",
       "      <td>1</td>\n",
       "      <td>29.71</td>\n",
       "      <td>94</td>\n",
       "    </tr>\n",
       "    <tr>\n",
       "      <th>4</th>\n",
       "      <td>2014-01-01 04:00:00</td>\n",
       "      <td>23.888889</td>\n",
       "      <td>75</td>\n",
       "      <td>Mostly Cloudy</td>\n",
       "      <td>1</td>\n",
       "      <td>29.68</td>\n",
       "      <td>94</td>\n",
       "    </tr>\n",
       "    <tr>\n",
       "      <th>...</th>\n",
       "      <td>...</td>\n",
       "      <td>...</td>\n",
       "      <td>...</td>\n",
       "      <td>...</td>\n",
       "      <td>...</td>\n",
       "      <td>...</td>\n",
       "      <td>...</td>\n",
       "    </tr>\n",
       "    <tr>\n",
       "      <th>95184</th>\n",
       "      <td>2024-09-24 20:00:00</td>\n",
       "      <td>25.000000</td>\n",
       "      <td>77</td>\n",
       "      <td>Fair</td>\n",
       "      <td>2</td>\n",
       "      <td>29.65</td>\n",
       "      <td>94</td>\n",
       "    </tr>\n",
       "    <tr>\n",
       "      <th>95185</th>\n",
       "      <td>2024-09-24 21:00:00</td>\n",
       "      <td>25.000000</td>\n",
       "      <td>77</td>\n",
       "      <td>Fair</td>\n",
       "      <td>3</td>\n",
       "      <td>29.68</td>\n",
       "      <td>94</td>\n",
       "    </tr>\n",
       "    <tr>\n",
       "      <th>95186</th>\n",
       "      <td>2024-09-24 22:00:00</td>\n",
       "      <td>25.000000</td>\n",
       "      <td>77</td>\n",
       "      <td>Fair</td>\n",
       "      <td>3</td>\n",
       "      <td>29.68</td>\n",
       "      <td>94</td>\n",
       "    </tr>\n",
       "    <tr>\n",
       "      <th>95187</th>\n",
       "      <td>2024-09-24 23:00:00</td>\n",
       "      <td>25.000000</td>\n",
       "      <td>77</td>\n",
       "      <td>Fair</td>\n",
       "      <td>1</td>\n",
       "      <td>29.71</td>\n",
       "      <td>94</td>\n",
       "    </tr>\n",
       "    <tr>\n",
       "      <th>95188</th>\n",
       "      <td>2024-09-25 00:00:00</td>\n",
       "      <td>25.000000</td>\n",
       "      <td>77</td>\n",
       "      <td>Fair</td>\n",
       "      <td>2</td>\n",
       "      <td>29.71</td>\n",
       "      <td>94</td>\n",
       "    </tr>\n",
       "  </tbody>\n",
       "</table>\n",
       "<p>95189 rows × 7 columns</p>\n",
       "</div>"
      ],
      "text/plain": [
       "                     date  temp_celsius  temp_fahrenheit      condition  \\\n",
       "0     2014-01-01 00:00:00     23.888889               75  Mostly Cloudy   \n",
       "1     2014-01-01 01:00:00     23.888889               75  Mostly Cloudy   \n",
       "2     2014-01-01 02:00:00     23.888889               75  Mostly Cloudy   \n",
       "3     2014-01-01 03:00:00     23.888889               75  Mostly Cloudy   \n",
       "4     2014-01-01 04:00:00     23.888889               75  Mostly Cloudy   \n",
       "...                   ...           ...              ...            ...   \n",
       "95184 2024-09-24 20:00:00     25.000000               77           Fair   \n",
       "95185 2024-09-24 21:00:00     25.000000               77           Fair   \n",
       "95186 2024-09-24 22:00:00     25.000000               77           Fair   \n",
       "95187 2024-09-24 23:00:00     25.000000               77           Fair   \n",
       "95188 2024-09-25 00:00:00     25.000000               77           Fair   \n",
       "\n",
       "       wind_speed_mph  pressure  humidity(%)  \n",
       "0                   1     29.74           94  \n",
       "1                   2     29.74           94  \n",
       "2                   1     29.71           94  \n",
       "3                   1     29.71           94  \n",
       "4                   1     29.68           94  \n",
       "...               ...       ...          ...  \n",
       "95184               2     29.65           94  \n",
       "95185               3     29.68           94  \n",
       "95186               3     29.68           94  \n",
       "95187               1     29.71           94  \n",
       "95188               2     29.71           94  \n",
       "\n",
       "[95189 rows x 7 columns]"
      ]
     },
     "execution_count": 5,
     "metadata": {},
     "output_type": "execute_result"
    }
   ],
   "source": [
    "df['date'] = pd.to_datetime(df['date'])\n",
    "df.sort_values(by=['date'],ignore_index=True, inplace=True)\n",
    "df"
   ]
  },
  {
   "cell_type": "code",
   "execution_count": 6,
   "id": "836d506e-5e19-4c04-ad03-88839b072172",
   "metadata": {},
   "outputs": [
    {
     "name": "stdout",
     "output_type": "stream",
     "text": [
      "['Mostly Cloudy' 'Partly Cloudy' 'Light Rain Shower' 'Heavy Rain' 'Rain'\n",
      " 'Light Rain' 'Light Rain with Thunder' 'Fog' 'Thunder' 'T-Storm'\n",
      " 'Heavy T-Storm' 'Haze' 'Showers in the Vicinity' 'Heavy Rain Shower'\n",
      " 'Rain Shower' 'Heavy T-Storm / Windy' 'Thunder in the Vicinity' 'Fair'\n",
      " 'Mostly Cloudy / Windy' 'Rain Shower / Windy' 'Rain and Sleet'\n",
      " 'Thunder and Hail' 'Mist' 'Rain and Snow']\n"
     ]
    }
   ],
   "source": [
    "unique_categories = df['condition'].unique()\n",
    "print(unique_categories)"
   ]
  },
  {
   "cell_type": "code",
   "execution_count": 7,
   "id": "4c397798-9ff9-4fe7-8eee-b4992d509808",
   "metadata": {},
   "outputs": [],
   "source": [
    "# Extract additional time features\n",
    "df['Year'] = df['date'].dt.year\n",
    "df['Month'] = df['date'].dt.month\n",
    "df['Day'] = df['date'].dt.day\n",
    "df['Hour'] = df['date'].dt.hour"
   ]
  },
  {
   "cell_type": "code",
   "execution_count": 8,
   "id": "c7705b27-2587-4c79-a5b8-77f781d4a538",
   "metadata": {
    "scrolled": true
   },
   "outputs": [
    {
     "data": {
      "text/html": [
       "<div>\n",
       "<style scoped>\n",
       "    .dataframe tbody tr th:only-of-type {\n",
       "        vertical-align: middle;\n",
       "    }\n",
       "\n",
       "    .dataframe tbody tr th {\n",
       "        vertical-align: top;\n",
       "    }\n",
       "\n",
       "    .dataframe thead th {\n",
       "        text-align: right;\n",
       "    }\n",
       "</style>\n",
       "<table border=\"1\" class=\"dataframe\">\n",
       "  <thead>\n",
       "    <tr style=\"text-align: right;\">\n",
       "      <th></th>\n",
       "      <th>date</th>\n",
       "      <th>temp_celsius</th>\n",
       "      <th>temp_fahrenheit</th>\n",
       "      <th>condition</th>\n",
       "      <th>wind_speed_mph</th>\n",
       "      <th>pressure</th>\n",
       "      <th>humidity(%)</th>\n",
       "      <th>Year</th>\n",
       "      <th>Month</th>\n",
       "      <th>Day</th>\n",
       "      <th>Hour</th>\n",
       "    </tr>\n",
       "  </thead>\n",
       "  <tbody>\n",
       "    <tr>\n",
       "      <th>0</th>\n",
       "      <td>2014-01-01 00:00:00</td>\n",
       "      <td>23.888889</td>\n",
       "      <td>75</td>\n",
       "      <td>Mostly Cloudy</td>\n",
       "      <td>1</td>\n",
       "      <td>29.74</td>\n",
       "      <td>94</td>\n",
       "      <td>2014</td>\n",
       "      <td>1</td>\n",
       "      <td>1</td>\n",
       "      <td>0</td>\n",
       "    </tr>\n",
       "    <tr>\n",
       "      <th>1</th>\n",
       "      <td>2014-01-01 01:00:00</td>\n",
       "      <td>23.888889</td>\n",
       "      <td>75</td>\n",
       "      <td>Mostly Cloudy</td>\n",
       "      <td>2</td>\n",
       "      <td>29.74</td>\n",
       "      <td>94</td>\n",
       "      <td>2014</td>\n",
       "      <td>1</td>\n",
       "      <td>1</td>\n",
       "      <td>1</td>\n",
       "    </tr>\n",
       "    <tr>\n",
       "      <th>2</th>\n",
       "      <td>2014-01-01 02:00:00</td>\n",
       "      <td>23.888889</td>\n",
       "      <td>75</td>\n",
       "      <td>Mostly Cloudy</td>\n",
       "      <td>1</td>\n",
       "      <td>29.71</td>\n",
       "      <td>94</td>\n",
       "      <td>2014</td>\n",
       "      <td>1</td>\n",
       "      <td>1</td>\n",
       "      <td>2</td>\n",
       "    </tr>\n",
       "    <tr>\n",
       "      <th>3</th>\n",
       "      <td>2014-01-01 03:00:00</td>\n",
       "      <td>23.888889</td>\n",
       "      <td>75</td>\n",
       "      <td>Mostly Cloudy</td>\n",
       "      <td>1</td>\n",
       "      <td>29.71</td>\n",
       "      <td>94</td>\n",
       "      <td>2014</td>\n",
       "      <td>1</td>\n",
       "      <td>1</td>\n",
       "      <td>3</td>\n",
       "    </tr>\n",
       "    <tr>\n",
       "      <th>4</th>\n",
       "      <td>2014-01-01 04:00:00</td>\n",
       "      <td>23.888889</td>\n",
       "      <td>75</td>\n",
       "      <td>Mostly Cloudy</td>\n",
       "      <td>1</td>\n",
       "      <td>29.68</td>\n",
       "      <td>94</td>\n",
       "      <td>2014</td>\n",
       "      <td>1</td>\n",
       "      <td>1</td>\n",
       "      <td>4</td>\n",
       "    </tr>\n",
       "    <tr>\n",
       "      <th>...</th>\n",
       "      <td>...</td>\n",
       "      <td>...</td>\n",
       "      <td>...</td>\n",
       "      <td>...</td>\n",
       "      <td>...</td>\n",
       "      <td>...</td>\n",
       "      <td>...</td>\n",
       "      <td>...</td>\n",
       "      <td>...</td>\n",
       "      <td>...</td>\n",
       "      <td>...</td>\n",
       "    </tr>\n",
       "    <tr>\n",
       "      <th>95184</th>\n",
       "      <td>2024-09-24 20:00:00</td>\n",
       "      <td>25.000000</td>\n",
       "      <td>77</td>\n",
       "      <td>Fair</td>\n",
       "      <td>2</td>\n",
       "      <td>29.65</td>\n",
       "      <td>94</td>\n",
       "      <td>2024</td>\n",
       "      <td>9</td>\n",
       "      <td>24</td>\n",
       "      <td>20</td>\n",
       "    </tr>\n",
       "    <tr>\n",
       "      <th>95185</th>\n",
       "      <td>2024-09-24 21:00:00</td>\n",
       "      <td>25.000000</td>\n",
       "      <td>77</td>\n",
       "      <td>Fair</td>\n",
       "      <td>3</td>\n",
       "      <td>29.68</td>\n",
       "      <td>94</td>\n",
       "      <td>2024</td>\n",
       "      <td>9</td>\n",
       "      <td>24</td>\n",
       "      <td>21</td>\n",
       "    </tr>\n",
       "    <tr>\n",
       "      <th>95186</th>\n",
       "      <td>2024-09-24 22:00:00</td>\n",
       "      <td>25.000000</td>\n",
       "      <td>77</td>\n",
       "      <td>Fair</td>\n",
       "      <td>3</td>\n",
       "      <td>29.68</td>\n",
       "      <td>94</td>\n",
       "      <td>2024</td>\n",
       "      <td>9</td>\n",
       "      <td>24</td>\n",
       "      <td>22</td>\n",
       "    </tr>\n",
       "    <tr>\n",
       "      <th>95187</th>\n",
       "      <td>2024-09-24 23:00:00</td>\n",
       "      <td>25.000000</td>\n",
       "      <td>77</td>\n",
       "      <td>Fair</td>\n",
       "      <td>1</td>\n",
       "      <td>29.71</td>\n",
       "      <td>94</td>\n",
       "      <td>2024</td>\n",
       "      <td>9</td>\n",
       "      <td>24</td>\n",
       "      <td>23</td>\n",
       "    </tr>\n",
       "    <tr>\n",
       "      <th>95188</th>\n",
       "      <td>2024-09-25 00:00:00</td>\n",
       "      <td>25.000000</td>\n",
       "      <td>77</td>\n",
       "      <td>Fair</td>\n",
       "      <td>2</td>\n",
       "      <td>29.71</td>\n",
       "      <td>94</td>\n",
       "      <td>2024</td>\n",
       "      <td>9</td>\n",
       "      <td>25</td>\n",
       "      <td>0</td>\n",
       "    </tr>\n",
       "  </tbody>\n",
       "</table>\n",
       "<p>95189 rows × 11 columns</p>\n",
       "</div>"
      ],
      "text/plain": [
       "                     date  temp_celsius  temp_fahrenheit      condition  \\\n",
       "0     2014-01-01 00:00:00     23.888889               75  Mostly Cloudy   \n",
       "1     2014-01-01 01:00:00     23.888889               75  Mostly Cloudy   \n",
       "2     2014-01-01 02:00:00     23.888889               75  Mostly Cloudy   \n",
       "3     2014-01-01 03:00:00     23.888889               75  Mostly Cloudy   \n",
       "4     2014-01-01 04:00:00     23.888889               75  Mostly Cloudy   \n",
       "...                   ...           ...              ...            ...   \n",
       "95184 2024-09-24 20:00:00     25.000000               77           Fair   \n",
       "95185 2024-09-24 21:00:00     25.000000               77           Fair   \n",
       "95186 2024-09-24 22:00:00     25.000000               77           Fair   \n",
       "95187 2024-09-24 23:00:00     25.000000               77           Fair   \n",
       "95188 2024-09-25 00:00:00     25.000000               77           Fair   \n",
       "\n",
       "       wind_speed_mph  pressure  humidity(%)  Year  Month  Day  Hour  \n",
       "0                   1     29.74           94  2014      1    1     0  \n",
       "1                   2     29.74           94  2014      1    1     1  \n",
       "2                   1     29.71           94  2014      1    1     2  \n",
       "3                   1     29.71           94  2014      1    1     3  \n",
       "4                   1     29.68           94  2014      1    1     4  \n",
       "...               ...       ...          ...   ...    ...  ...   ...  \n",
       "95184               2     29.65           94  2024      9   24    20  \n",
       "95185               3     29.68           94  2024      9   24    21  \n",
       "95186               3     29.68           94  2024      9   24    22  \n",
       "95187               1     29.71           94  2024      9   24    23  \n",
       "95188               2     29.71           94  2024      9   25     0  \n",
       "\n",
       "[95189 rows x 11 columns]"
      ]
     },
     "execution_count": 8,
     "metadata": {},
     "output_type": "execute_result"
    }
   ],
   "source": [
    "df"
   ]
  },
  {
   "cell_type": "code",
   "execution_count": 9,
   "id": "db992e55-894c-4f09-bda3-eddf26af38d1",
   "metadata": {},
   "outputs": [
    {
     "data": {
      "text/html": [
       "<div>\n",
       "<style scoped>\n",
       "    .dataframe tbody tr th:only-of-type {\n",
       "        vertical-align: middle;\n",
       "    }\n",
       "\n",
       "    .dataframe tbody tr th {\n",
       "        vertical-align: top;\n",
       "    }\n",
       "\n",
       "    .dataframe thead th {\n",
       "        text-align: right;\n",
       "    }\n",
       "</style>\n",
       "<table border=\"1\" class=\"dataframe\">\n",
       "  <thead>\n",
       "    <tr style=\"text-align: right;\">\n",
       "      <th></th>\n",
       "      <th>date</th>\n",
       "      <th>temp_celsius</th>\n",
       "      <th>temp_fahrenheit</th>\n",
       "      <th>condition</th>\n",
       "      <th>wind_speed_mph</th>\n",
       "      <th>pressure</th>\n",
       "      <th>humidity(%)</th>\n",
       "      <th>Year</th>\n",
       "      <th>Month</th>\n",
       "      <th>Day</th>\n",
       "      <th>Hour</th>\n",
       "      <th>condition_encoded</th>\n",
       "    </tr>\n",
       "  </thead>\n",
       "  <tbody>\n",
       "    <tr>\n",
       "      <th>0</th>\n",
       "      <td>2014-01-01 00:00:00</td>\n",
       "      <td>23.888889</td>\n",
       "      <td>75</td>\n",
       "      <td>Mostly Cloudy</td>\n",
       "      <td>1</td>\n",
       "      <td>29.74</td>\n",
       "      <td>94</td>\n",
       "      <td>2014</td>\n",
       "      <td>1</td>\n",
       "      <td>1</td>\n",
       "      <td>0</td>\n",
       "      <td>11</td>\n",
       "    </tr>\n",
       "    <tr>\n",
       "      <th>1</th>\n",
       "      <td>2014-01-01 01:00:00</td>\n",
       "      <td>23.888889</td>\n",
       "      <td>75</td>\n",
       "      <td>Mostly Cloudy</td>\n",
       "      <td>2</td>\n",
       "      <td>29.74</td>\n",
       "      <td>94</td>\n",
       "      <td>2014</td>\n",
       "      <td>1</td>\n",
       "      <td>1</td>\n",
       "      <td>1</td>\n",
       "      <td>11</td>\n",
       "    </tr>\n",
       "    <tr>\n",
       "      <th>2</th>\n",
       "      <td>2014-01-01 02:00:00</td>\n",
       "      <td>23.888889</td>\n",
       "      <td>75</td>\n",
       "      <td>Mostly Cloudy</td>\n",
       "      <td>1</td>\n",
       "      <td>29.71</td>\n",
       "      <td>94</td>\n",
       "      <td>2014</td>\n",
       "      <td>1</td>\n",
       "      <td>1</td>\n",
       "      <td>2</td>\n",
       "      <td>11</td>\n",
       "    </tr>\n",
       "    <tr>\n",
       "      <th>3</th>\n",
       "      <td>2014-01-01 03:00:00</td>\n",
       "      <td>23.888889</td>\n",
       "      <td>75</td>\n",
       "      <td>Mostly Cloudy</td>\n",
       "      <td>1</td>\n",
       "      <td>29.71</td>\n",
       "      <td>94</td>\n",
       "      <td>2014</td>\n",
       "      <td>1</td>\n",
       "      <td>1</td>\n",
       "      <td>3</td>\n",
       "      <td>11</td>\n",
       "    </tr>\n",
       "    <tr>\n",
       "      <th>4</th>\n",
       "      <td>2014-01-01 04:00:00</td>\n",
       "      <td>23.888889</td>\n",
       "      <td>75</td>\n",
       "      <td>Mostly Cloudy</td>\n",
       "      <td>1</td>\n",
       "      <td>29.68</td>\n",
       "      <td>94</td>\n",
       "      <td>2014</td>\n",
       "      <td>1</td>\n",
       "      <td>1</td>\n",
       "      <td>4</td>\n",
       "      <td>11</td>\n",
       "    </tr>\n",
       "    <tr>\n",
       "      <th>...</th>\n",
       "      <td>...</td>\n",
       "      <td>...</td>\n",
       "      <td>...</td>\n",
       "      <td>...</td>\n",
       "      <td>...</td>\n",
       "      <td>...</td>\n",
       "      <td>...</td>\n",
       "      <td>...</td>\n",
       "      <td>...</td>\n",
       "      <td>...</td>\n",
       "      <td>...</td>\n",
       "      <td>...</td>\n",
       "    </tr>\n",
       "    <tr>\n",
       "      <th>95184</th>\n",
       "      <td>2024-09-24 20:00:00</td>\n",
       "      <td>25.000000</td>\n",
       "      <td>77</td>\n",
       "      <td>Fair</td>\n",
       "      <td>2</td>\n",
       "      <td>29.65</td>\n",
       "      <td>94</td>\n",
       "      <td>2024</td>\n",
       "      <td>9</td>\n",
       "      <td>24</td>\n",
       "      <td>20</td>\n",
       "      <td>0</td>\n",
       "    </tr>\n",
       "    <tr>\n",
       "      <th>95185</th>\n",
       "      <td>2024-09-24 21:00:00</td>\n",
       "      <td>25.000000</td>\n",
       "      <td>77</td>\n",
       "      <td>Fair</td>\n",
       "      <td>3</td>\n",
       "      <td>29.68</td>\n",
       "      <td>94</td>\n",
       "      <td>2024</td>\n",
       "      <td>9</td>\n",
       "      <td>24</td>\n",
       "      <td>21</td>\n",
       "      <td>0</td>\n",
       "    </tr>\n",
       "    <tr>\n",
       "      <th>95186</th>\n",
       "      <td>2024-09-24 22:00:00</td>\n",
       "      <td>25.000000</td>\n",
       "      <td>77</td>\n",
       "      <td>Fair</td>\n",
       "      <td>3</td>\n",
       "      <td>29.68</td>\n",
       "      <td>94</td>\n",
       "      <td>2024</td>\n",
       "      <td>9</td>\n",
       "      <td>24</td>\n",
       "      <td>22</td>\n",
       "      <td>0</td>\n",
       "    </tr>\n",
       "    <tr>\n",
       "      <th>95187</th>\n",
       "      <td>2024-09-24 23:00:00</td>\n",
       "      <td>25.000000</td>\n",
       "      <td>77</td>\n",
       "      <td>Fair</td>\n",
       "      <td>1</td>\n",
       "      <td>29.71</td>\n",
       "      <td>94</td>\n",
       "      <td>2024</td>\n",
       "      <td>9</td>\n",
       "      <td>24</td>\n",
       "      <td>23</td>\n",
       "      <td>0</td>\n",
       "    </tr>\n",
       "    <tr>\n",
       "      <th>95188</th>\n",
       "      <td>2024-09-25 00:00:00</td>\n",
       "      <td>25.000000</td>\n",
       "      <td>77</td>\n",
       "      <td>Fair</td>\n",
       "      <td>2</td>\n",
       "      <td>29.71</td>\n",
       "      <td>94</td>\n",
       "      <td>2024</td>\n",
       "      <td>9</td>\n",
       "      <td>25</td>\n",
       "      <td>0</td>\n",
       "      <td>0</td>\n",
       "    </tr>\n",
       "  </tbody>\n",
       "</table>\n",
       "<p>95189 rows × 12 columns</p>\n",
       "</div>"
      ],
      "text/plain": [
       "                     date  temp_celsius  temp_fahrenheit      condition  \\\n",
       "0     2014-01-01 00:00:00     23.888889               75  Mostly Cloudy   \n",
       "1     2014-01-01 01:00:00     23.888889               75  Mostly Cloudy   \n",
       "2     2014-01-01 02:00:00     23.888889               75  Mostly Cloudy   \n",
       "3     2014-01-01 03:00:00     23.888889               75  Mostly Cloudy   \n",
       "4     2014-01-01 04:00:00     23.888889               75  Mostly Cloudy   \n",
       "...                   ...           ...              ...            ...   \n",
       "95184 2024-09-24 20:00:00     25.000000               77           Fair   \n",
       "95185 2024-09-24 21:00:00     25.000000               77           Fair   \n",
       "95186 2024-09-24 22:00:00     25.000000               77           Fair   \n",
       "95187 2024-09-24 23:00:00     25.000000               77           Fair   \n",
       "95188 2024-09-25 00:00:00     25.000000               77           Fair   \n",
       "\n",
       "       wind_speed_mph  pressure  humidity(%)  Year  Month  Day  Hour  \\\n",
       "0                   1     29.74           94  2014      1    1     0   \n",
       "1                   2     29.74           94  2014      1    1     1   \n",
       "2                   1     29.71           94  2014      1    1     2   \n",
       "3                   1     29.71           94  2014      1    1     3   \n",
       "4                   1     29.68           94  2014      1    1     4   \n",
       "...               ...       ...          ...   ...    ...  ...   ...   \n",
       "95184               2     29.65           94  2024      9   24    20   \n",
       "95185               3     29.68           94  2024      9   24    21   \n",
       "95186               3     29.68           94  2024      9   24    22   \n",
       "95187               1     29.71           94  2024      9   24    23   \n",
       "95188               2     29.71           94  2024      9   25     0   \n",
       "\n",
       "       condition_encoded  \n",
       "0                     11  \n",
       "1                     11  \n",
       "2                     11  \n",
       "3                     11  \n",
       "4                     11  \n",
       "...                  ...  \n",
       "95184                  0  \n",
       "95185                  0  \n",
       "95186                  0  \n",
       "95187                  0  \n",
       "95188                  0  \n",
       "\n",
       "[95189 rows x 12 columns]"
      ]
     },
     "execution_count": 9,
     "metadata": {},
     "output_type": "execute_result"
    }
   ],
   "source": [
    "label_encoder = LabelEncoder()\n",
    "df['condition_encoded'] = label_encoder.fit_transform(df['condition'])\n",
    "df"
   ]
  },
  {
   "cell_type": "code",
   "execution_count": 10,
   "id": "972429d9-17b1-4592-b592-f5d82ec381e4",
   "metadata": {},
   "outputs": [
    {
     "name": "stdout",
     "output_type": "stream",
     "text": [
      "Mapping between condition and encoded values:\n",
      "{'Fair': 0, 'Fog': 1, 'Haze': 2, 'Heavy Rain': 3, 'Heavy Rain Shower': 4, 'Heavy T-Storm': 5, 'Heavy T-Storm / Windy': 6, 'Light Rain': 7, 'Light Rain Shower': 8, 'Light Rain with Thunder': 9, 'Mist': 10, 'Mostly Cloudy': 11, 'Mostly Cloudy / Windy': 12, 'Partly Cloudy': 13, 'Rain': 14, 'Rain Shower': 15, 'Rain Shower / Windy': 16, 'Rain and Sleet': 17, 'Rain and Snow': 18, 'Showers in the Vicinity': 19, 'T-Storm': 20, 'Thunder': 21, 'Thunder and Hail': 22, 'Thunder in the Vicinity': 23}\n"
     ]
    }
   ],
   "source": [
    "# Print the mapping between original conditions and encoded values\n",
    "label_mapping = dict(zip(label_encoder.classes_, label_encoder.transform(label_encoder.classes_)))\n",
    "print(\"Mapping between condition and encoded values:\")\n",
    "print(label_mapping)"
   ]
  },
  {
   "cell_type": "code",
   "execution_count": 11,
   "id": "1ef0f80c-a026-41d4-ba7d-1dd6dff64bc9",
   "metadata": {},
   "outputs": [],
   "source": [
    "columns_to_drop = ['date', 'condition', 'condition_encoded']\n",
    "df_new = df.drop(columns=columns_to_drop)"
   ]
  },
  {
   "cell_type": "code",
   "execution_count": 12,
   "id": "27c88979-0332-4160-aa54-e258e8daae55",
   "metadata": {},
   "outputs": [
    {
     "data": {
      "text/html": [
       "<div>\n",
       "<style scoped>\n",
       "    .dataframe tbody tr th:only-of-type {\n",
       "        vertical-align: middle;\n",
       "    }\n",
       "\n",
       "    .dataframe tbody tr th {\n",
       "        vertical-align: top;\n",
       "    }\n",
       "\n",
       "    .dataframe thead th {\n",
       "        text-align: right;\n",
       "    }\n",
       "</style>\n",
       "<table border=\"1\" class=\"dataframe\">\n",
       "  <thead>\n",
       "    <tr style=\"text-align: right;\">\n",
       "      <th></th>\n",
       "      <th>temp_celsius</th>\n",
       "      <th>temp_fahrenheit</th>\n",
       "      <th>wind_speed_mph</th>\n",
       "      <th>pressure</th>\n",
       "      <th>humidity(%)</th>\n",
       "      <th>Year</th>\n",
       "      <th>Month</th>\n",
       "      <th>Day</th>\n",
       "      <th>Hour</th>\n",
       "    </tr>\n",
       "  </thead>\n",
       "  <tbody>\n",
       "    <tr>\n",
       "      <th>0</th>\n",
       "      <td>23.888889</td>\n",
       "      <td>75</td>\n",
       "      <td>1</td>\n",
       "      <td>29.74</td>\n",
       "      <td>94</td>\n",
       "      <td>2014</td>\n",
       "      <td>1</td>\n",
       "      <td>1</td>\n",
       "      <td>0</td>\n",
       "    </tr>\n",
       "    <tr>\n",
       "      <th>1</th>\n",
       "      <td>23.888889</td>\n",
       "      <td>75</td>\n",
       "      <td>2</td>\n",
       "      <td>29.74</td>\n",
       "      <td>94</td>\n",
       "      <td>2014</td>\n",
       "      <td>1</td>\n",
       "      <td>1</td>\n",
       "      <td>1</td>\n",
       "    </tr>\n",
       "    <tr>\n",
       "      <th>2</th>\n",
       "      <td>23.888889</td>\n",
       "      <td>75</td>\n",
       "      <td>1</td>\n",
       "      <td>29.71</td>\n",
       "      <td>94</td>\n",
       "      <td>2014</td>\n",
       "      <td>1</td>\n",
       "      <td>1</td>\n",
       "      <td>2</td>\n",
       "    </tr>\n",
       "    <tr>\n",
       "      <th>3</th>\n",
       "      <td>23.888889</td>\n",
       "      <td>75</td>\n",
       "      <td>1</td>\n",
       "      <td>29.71</td>\n",
       "      <td>94</td>\n",
       "      <td>2014</td>\n",
       "      <td>1</td>\n",
       "      <td>1</td>\n",
       "      <td>3</td>\n",
       "    </tr>\n",
       "    <tr>\n",
       "      <th>4</th>\n",
       "      <td>23.888889</td>\n",
       "      <td>75</td>\n",
       "      <td>1</td>\n",
       "      <td>29.68</td>\n",
       "      <td>94</td>\n",
       "      <td>2014</td>\n",
       "      <td>1</td>\n",
       "      <td>1</td>\n",
       "      <td>4</td>\n",
       "    </tr>\n",
       "    <tr>\n",
       "      <th>...</th>\n",
       "      <td>...</td>\n",
       "      <td>...</td>\n",
       "      <td>...</td>\n",
       "      <td>...</td>\n",
       "      <td>...</td>\n",
       "      <td>...</td>\n",
       "      <td>...</td>\n",
       "      <td>...</td>\n",
       "      <td>...</td>\n",
       "    </tr>\n",
       "    <tr>\n",
       "      <th>95184</th>\n",
       "      <td>25.000000</td>\n",
       "      <td>77</td>\n",
       "      <td>2</td>\n",
       "      <td>29.65</td>\n",
       "      <td>94</td>\n",
       "      <td>2024</td>\n",
       "      <td>9</td>\n",
       "      <td>24</td>\n",
       "      <td>20</td>\n",
       "    </tr>\n",
       "    <tr>\n",
       "      <th>95185</th>\n",
       "      <td>25.000000</td>\n",
       "      <td>77</td>\n",
       "      <td>3</td>\n",
       "      <td>29.68</td>\n",
       "      <td>94</td>\n",
       "      <td>2024</td>\n",
       "      <td>9</td>\n",
       "      <td>24</td>\n",
       "      <td>21</td>\n",
       "    </tr>\n",
       "    <tr>\n",
       "      <th>95186</th>\n",
       "      <td>25.000000</td>\n",
       "      <td>77</td>\n",
       "      <td>3</td>\n",
       "      <td>29.68</td>\n",
       "      <td>94</td>\n",
       "      <td>2024</td>\n",
       "      <td>9</td>\n",
       "      <td>24</td>\n",
       "      <td>22</td>\n",
       "    </tr>\n",
       "    <tr>\n",
       "      <th>95187</th>\n",
       "      <td>25.000000</td>\n",
       "      <td>77</td>\n",
       "      <td>1</td>\n",
       "      <td>29.71</td>\n",
       "      <td>94</td>\n",
       "      <td>2024</td>\n",
       "      <td>9</td>\n",
       "      <td>24</td>\n",
       "      <td>23</td>\n",
       "    </tr>\n",
       "    <tr>\n",
       "      <th>95188</th>\n",
       "      <td>25.000000</td>\n",
       "      <td>77</td>\n",
       "      <td>2</td>\n",
       "      <td>29.71</td>\n",
       "      <td>94</td>\n",
       "      <td>2024</td>\n",
       "      <td>9</td>\n",
       "      <td>25</td>\n",
       "      <td>0</td>\n",
       "    </tr>\n",
       "  </tbody>\n",
       "</table>\n",
       "<p>95189 rows × 9 columns</p>\n",
       "</div>"
      ],
      "text/plain": [
       "       temp_celsius  temp_fahrenheit  wind_speed_mph  pressure  humidity(%)  \\\n",
       "0         23.888889               75               1     29.74           94   \n",
       "1         23.888889               75               2     29.74           94   \n",
       "2         23.888889               75               1     29.71           94   \n",
       "3         23.888889               75               1     29.71           94   \n",
       "4         23.888889               75               1     29.68           94   \n",
       "...             ...              ...             ...       ...          ...   \n",
       "95184     25.000000               77               2     29.65           94   \n",
       "95185     25.000000               77               3     29.68           94   \n",
       "95186     25.000000               77               3     29.68           94   \n",
       "95187     25.000000               77               1     29.71           94   \n",
       "95188     25.000000               77               2     29.71           94   \n",
       "\n",
       "       Year  Month  Day  Hour  \n",
       "0      2014      1    1     0  \n",
       "1      2014      1    1     1  \n",
       "2      2014      1    1     2  \n",
       "3      2014      1    1     3  \n",
       "4      2014      1    1     4  \n",
       "...     ...    ...  ...   ...  \n",
       "95184  2024      9   24    20  \n",
       "95185  2024      9   24    21  \n",
       "95186  2024      9   24    22  \n",
       "95187  2024      9   24    23  \n",
       "95188  2024      9   25     0  \n",
       "\n",
       "[95189 rows x 9 columns]"
      ]
     },
     "execution_count": 12,
     "metadata": {},
     "output_type": "execute_result"
    }
   ],
   "source": [
    "df_new"
   ]
  },
  {
   "cell_type": "code",
   "execution_count": 13,
   "id": "302f3e71-f6ab-445c-84cd-462c23e23fe9",
   "metadata": {},
   "outputs": [
    {
     "name": "stdout",
     "output_type": "stream",
     "text": [
      "                 temp_celsius  temp_fahrenheit  wind_speed_mph  pressure  \\\n",
      "temp_celsius         1.000000         1.000000        0.577808 -0.227575   \n",
      "temp_fahrenheit      1.000000         1.000000        0.577808 -0.227575   \n",
      "wind_speed_mph       0.577808         0.577808        1.000000 -0.081263   \n",
      "pressure            -0.227575        -0.227575       -0.081263  1.000000   \n",
      "humidity(%)         -0.914988        -0.914988       -0.639317  0.164833   \n",
      "Year                 0.034270         0.034270        0.026298 -0.087408   \n",
      "Month               -0.014892        -0.014892       -0.142513 -0.132827   \n",
      "Day                  0.001266         0.001266        0.005629 -0.004091   \n",
      "Hour                 0.381426         0.381426        0.302640 -0.175868   \n",
      "\n",
      "                 humidity(%)      Year     Month       Day      Hour  \n",
      "temp_celsius       -0.914988  0.034270 -0.014892  0.001266  0.381426  \n",
      "temp_fahrenheit    -0.914988  0.034270 -0.014892  0.001266  0.381426  \n",
      "wind_speed_mph     -0.639317  0.026298 -0.142513  0.005629  0.302640  \n",
      "pressure            0.164833 -0.087408 -0.132827 -0.004091 -0.175868  \n",
      "humidity(%)         1.000000 -0.053403  0.071397 -0.006114 -0.361990  \n",
      "Year               -0.053403  1.000000 -0.050463 -0.004717  0.006618  \n",
      "Month               0.071397 -0.050463  1.000000  0.009106  0.000117  \n",
      "Day                -0.006114 -0.004717  0.009106  1.000000  0.000080  \n",
      "Hour               -0.361990  0.006618  0.000117  0.000080  1.000000  \n"
     ]
    }
   ],
   "source": [
    "correlation_matrix = df_new[['temp_celsius', 'temp_fahrenheit', 'wind_speed_mph', \n",
    "                             'pressure', 'humidity(%)', 'Year', 'Month', 'Day', 'Hour']].corr()\n",
    "\n",
    "print(correlation_matrix)"
   ]
  },
  {
   "cell_type": "code",
   "execution_count": 14,
   "id": "e37a93ae-e21a-46f2-b2c9-6c08551afa81",
   "metadata": {},
   "outputs": [
    {
     "data": {
      "image/png": "[encoded data removed]",
      "text/plain": [
       "<Figure size 1000x800 with 2 Axes>"
      ]
     },
     "metadata": {},
     "output_type": "display_data"
    }
   ],
   "source": [
    "# Visualize the correlation matrix\n",
    "plt.figure(figsize=(10, 8))\n",
    "sns.heatmap(correlation_matrix, annot=True, cmap='coolwarm')\n",
    "plt.show()"
   ]
  },
  {
   "cell_type": "code",
   "execution_count": 15,
   "id": "4ef38baf-74fe-4759-b24b-3fffbc7b5945",
   "metadata": {},
   "outputs": [],
   "source": [
    "# Set random seed for reproducibility\n",
    "random.seed(1)\n",
    "np.random.seed(1)\n",
    "tf.keras.utils.set_random_seed(1)\n",
    "tf.config.experimental.enable_op_determinism()"
   ]
  },
  {
   "cell_type": "code",
   "execution_count": 16,
   "id": "1b75f725-3d5f-4b78-9cc2-1eef078ee09e",
   "metadata": {},
   "outputs": [],
   "source": [
    "seq_length = 24  # Change sequence length from 10 to 24\n",
    "\n",
    "sequences = []\n",
    "for i in range(len(df) - seq_length):\n",
    "    sequence = df_new.iloc[i:i+seq_length].values.astype(np.float32)\n",
    "    sequences.append(sequence)\n",
    "\n",
    "x = np.array(sequences)\n",
    "y = df['temp_celsius'].to_numpy()[seq_length:].reshape(-1, 1)  # This now starts at seq_length, which is 24"
   ]
  },
  {
   "cell_type": "code",
   "execution_count": 17,
   "id": "64e65894-1eb3-4b62-ac0e-89af97fc34d1",
   "metadata": {},
   "outputs": [],
   "source": [
    "# Split the data into training, validation, and test sets\n",
    "train_total = round(len(x) * 70 / 100)\n",
    "val_total = round(len(x) * 10 / 100)\n",
    "test_total = round(len(x) * 20 / 100)"
   ]
  },
  {
   "cell_type": "code",
   "execution_count": 18,
   "id": "7082542e-aeae-41b2-9d55-c07ef25a4fda",
   "metadata": {},
   "outputs": [],
   "source": [
    "test_n_start = train_total + val_total\n",
    "\n",
    "X_train, y_train = x[:train_total], y[:train_total]\n",
    "X_val, y_val = x[train_total:test_n_start], y[train_total:test_n_start]\n",
    "X_test, y_test = x[test_n_start:], y[test_n_start:]"
   ]
  },
  {
   "cell_type": "code",
   "execution_count": 19,
   "id": "67102aff-8492-4e18-a929-cab97375ec69",
   "metadata": {},
   "outputs": [
    {
     "name": "stdout",
     "output_type": "stream",
     "text": [
      "Train X shape: (66616, 24, 9), Train y shape (66616, 1)\n",
      "Validation X shape: (9516, 24, 9), Validation y shape (9516, 1)\n",
      "Test X shape: (19033, 24, 9), Test y shape (19033, 1)\n"
     ]
    }
   ],
   "source": [
    "print(f'Train X shape: {X_train.shape}, Train y shape {y_train.shape}')\n",
    "print(f'Validation X shape: {X_val.shape}, Validation y shape {y_val.shape}')\n",
    "print(f'Test X shape: {X_test.shape}, Test y shape {y_test.shape}')"
   ]
  },
  {
   "cell_type": "code",
   "execution_count": 20,
   "id": "1950601c-0613-4664-876f-4adf53262871",
   "metadata": {},
   "outputs": [],
   "source": [
    "# Define the LSTM model with Bidirectional layers and Dropout\n",
    "model = Sequential()\n",
    "model.add(Input(shape=(X_train.shape[1], X_train.shape[2])))  # X_train.shape[1] should now be 24\n",
    "model.add(Bidirectional(LSTM(64, activation='relu')))\n",
    "model.add(Dense(y_train.shape[1]))\n",
    "model.compile(optimizer=Adam(learning_rate=0.0001), loss='mse', metrics=[RootMeanSquaredError()])"
   ]
  },
  {
   "cell_type": "code",
   "execution_count": 21,
   "id": "9154a0b0-bcb7-437b-b069-a61931e9c9c0",
   "metadata": {},
   "outputs": [
    {
     "name": "stdout",
     "output_type": "stream",
     "text": [
      "Model: \"sequential\"\n",
      "_________________________________________________________________\n",
      " Layer (type)                Output Shape              Param #   \n",
      "=================================================================\n",
      " bidirectional (Bidirection  (None, 128)               37888     \n",
      " al)                                                             \n",
      "                                                                 \n",
      " dense (Dense)               (None, 1)                 129       \n",
      "                                                                 \n",
      "=================================================================\n",
      "Total params: 38017 (148.50 KB)\n",
      "Trainable params: 38017 (148.50 KB)\n",
      "Non-trainable params: 0 (0.00 Byte)\n",
      "_________________________________________________________________\n"
     ]
    }
   ],
   "source": [
    "# Print model summary\n",
    "model.summary()"
   ]
  },
  {
   "cell_type": "code",
   "execution_count": 22,
   "id": "306c9216-a84f-45f7-9d44-d08f8cb19490",
   "metadata": {},
   "outputs": [
    {
     "name": "stdout",
     "output_type": "stream",
     "text": [
      "Epoch 1/500\n",
      "1037/1041 [============================>.] - ETA: 0s - loss: 155166.0000 - root_mean_squared_error: 393.9112INFO:tensorflow:Assets written to: ./tmp\\checkpoint\\assets\n"
     ]
    },
    {
     "name": "stderr",
     "output_type": "stream",
     "text": [
      "INFO:tensorflow:Assets written to: ./tmp\\checkpoint\\assets\n"
     ]
    },
    {
     "name": "stdout",
     "output_type": "stream",
     "text": [
      "1041/1041 [==============================] - 16s 14ms/step - loss: 154721.0781 - root_mean_squared_error: 393.3460 - val_loss: 41214.1992 - val_root_mean_squared_error: 203.0128\n",
      "Epoch 2/500\n",
      "1039/1041 [============================>.] - ETA: 0s - loss: 9466.1592 - root_mean_squared_error: 97.2942INFO:tensorflow:Assets written to: ./tmp\\checkpoint\\assets\n"
     ]
    },
    {
     "name": "stderr",
     "output_type": "stream",
     "text": [
      "INFO:tensorflow:Assets written to: ./tmp\\checkpoint\\assets\n"
     ]
    },
    {
     "name": "stdout",
     "output_type": "stream",
     "text": [
      "1041/1041 [==============================] - 13s 13ms/step - loss: 9491.5312 - root_mean_squared_error: 97.4245 - val_loss: 33278.4883 - val_root_mean_squared_error: 182.4239\n",
      "Epoch 3/500\n",
      "1041/1041 [==============================] - ETA: 0s - loss: 22423.2617 - root_mean_squared_error: 149.7440INFO:tensorflow:Assets written to: ./tmp\\checkpoint\\assets\n"
     ]
    },
    {
     "name": "stderr",
     "output_type": "stream",
     "text": [
      "INFO:tensorflow:Assets written to: ./tmp\\checkpoint\\assets\n"
     ]
    },
    {
     "name": "stdout",
     "output_type": "stream",
     "text": [
      "1041/1041 [==============================] - 13s 12ms/step - loss: 22423.2617 - root_mean_squared_error: 149.7440 - val_loss: 5624.5996 - val_root_mean_squared_error: 74.9973\n",
      "Epoch 4/500\n",
      "1036/1041 [============================>.] - ETA: 0s - loss: 12702.3096 - root_mean_squared_error: 112.7045INFO:tensorflow:Assets written to: ./tmp\\checkpoint\\assets\n"
     ]
    },
    {
     "name": "stderr",
     "output_type": "stream",
     "text": [
      "INFO:tensorflow:Assets written to: ./tmp\\checkpoint\\assets\n"
     ]
    },
    {
     "name": "stdout",
     "output_type": "stream",
     "text": [
      "1041/1041 [==============================] - 12s 12ms/step - loss: 12654.9961 - root_mean_squared_error: 112.4944 - val_loss: 2701.0771 - val_root_mean_squared_error: 51.9719\n",
      "Epoch 5/500\n",
      "1038/1041 [============================>.] - ETA: 0s - loss: 5141.1704 - root_mean_squared_error: 71.7020INFO:tensorflow:Assets written to: ./tmp\\checkpoint\\assets\n"
     ]
    },
    {
     "name": "stderr",
     "output_type": "stream",
     "text": [
      "INFO:tensorflow:Assets written to: ./tmp\\checkpoint\\assets\n"
     ]
    },
    {
     "name": "stdout",
     "output_type": "stream",
     "text": [
      "1041/1041 [==============================] - 14s 13ms/step - loss: 5128.9629 - root_mean_squared_error: 71.6168 - val_loss: 398.1187 - val_root_mean_squared_error: 19.9529\n",
      "Epoch 6/500\n",
      "1041/1041 [==============================] - 11s 10ms/step - loss: 3438.4565 - root_mean_squared_error: 58.6384 - val_loss: 13270.6445 - val_root_mean_squared_error: 115.1983\n",
      "Epoch 7/500\n",
      "1041/1041 [==============================] - 11s 10ms/step - loss: 6418.9263 - root_mean_squared_error: 80.1182 - val_loss: 1198.1063 - val_root_mean_squared_error: 34.6137\n",
      "Epoch 8/500\n",
      "1041/1041 [==============================] - ETA: 0s - loss: 391.5848 - root_mean_squared_error: 19.7885INFO:tensorflow:Assets written to: ./tmp\\checkpoint\\assets\n"
     ]
    },
    {
     "name": "stderr",
     "output_type": "stream",
     "text": [
      "INFO:tensorflow:Assets written to: ./tmp\\checkpoint\\assets\n"
     ]
    },
    {
     "name": "stdout",
     "output_type": "stream",
     "text": [
      "1041/1041 [==============================] - 13s 13ms/step - loss: 391.5848 - root_mean_squared_error: 19.7885 - val_loss: 340.0283 - val_root_mean_squared_error: 18.4399\n",
      "Epoch 9/500\n",
      "1039/1041 [============================>.] - ETA: 0s - loss: 275.5068 - root_mean_squared_error: 16.5984INFO:tensorflow:Assets written to: ./tmp\\checkpoint\\assets\n"
     ]
    },
    {
     "name": "stderr",
     "output_type": "stream",
     "text": [
      "INFO:tensorflow:Assets written to: ./tmp\\checkpoint\\assets\n"
     ]
    },
    {
     "name": "stdout",
     "output_type": "stream",
     "text": [
      "1041/1041 [==============================] - 14s 13ms/step - loss: 275.4930 - root_mean_squared_error: 16.5980 - val_loss: 236.3387 - val_root_mean_squared_error: 15.3733\n",
      "Epoch 10/500\n",
      "1039/1041 [============================>.] - ETA: 0s - loss: 179.8241 - root_mean_squared_error: 13.4099INFO:tensorflow:Assets written to: ./tmp\\checkpoint\\assets\n"
     ]
    },
    {
     "name": "stderr",
     "output_type": "stream",
     "text": [
      "INFO:tensorflow:Assets written to: ./tmp\\checkpoint\\assets\n"
     ]
    },
    {
     "name": "stdout",
     "output_type": "stream",
     "text": [
      "1041/1041 [==============================] - 14s 13ms/step - loss: 179.6839 - root_mean_squared_error: 13.4046 - val_loss: 134.3667 - val_root_mean_squared_error: 11.5917\n",
      "Epoch 11/500\n",
      "1041/1041 [==============================] - 11s 11ms/step - loss: 116.8020 - root_mean_squared_error: 10.8075 - val_loss: 166.1324 - val_root_mean_squared_error: 12.8892\n",
      "Epoch 12/500\n",
      "1041/1041 [==============================] - 11s 11ms/step - loss: 161.5138 - root_mean_squared_error: 12.7088 - val_loss: 159.4078 - val_root_mean_squared_error: 12.6257\n",
      "Epoch 13/500\n",
      "1037/1041 [============================>.] - ETA: 0s - loss: 114.3726 - root_mean_squared_error: 10.6945INFO:tensorflow:Assets written to: ./tmp\\checkpoint\\assets\n"
     ]
    },
    {
     "name": "stderr",
     "output_type": "stream",
     "text": [
      "INFO:tensorflow:Assets written to: ./tmp\\checkpoint\\assets\n"
     ]
    },
    {
     "name": "stdout",
     "output_type": "stream",
     "text": [
      "1041/1041 [==============================] - 13s 13ms/step - loss: 114.1354 - root_mean_squared_error: 10.6834 - val_loss: 64.6005 - val_root_mean_squared_error: 8.0374\n",
      "Epoch 14/500\n",
      "1038/1041 [============================>.] - ETA: 0s - loss: 50.0691 - root_mean_squared_error: 7.0760INFO:tensorflow:Assets written to: ./tmp\\checkpoint\\assets\n"
     ]
    },
    {
     "name": "stderr",
     "output_type": "stream",
     "text": [
      "INFO:tensorflow:Assets written to: ./tmp\\checkpoint\\assets\n"
     ]
    },
    {
     "name": "stdout",
     "output_type": "stream",
     "text": [
      "1041/1041 [==============================] - 14s 13ms/step - loss: 50.0586 - root_mean_squared_error: 7.0752 - val_loss: 47.7625 - val_root_mean_squared_error: 6.9110\n",
      "Epoch 15/500\n",
      "1037/1041 [============================>.] - ETA: 0s - loss: 35.2177 - root_mean_squared_error: 5.9344INFO:tensorflow:Assets written to: ./tmp\\checkpoint\\assets\n"
     ]
    },
    {
     "name": "stderr",
     "output_type": "stream",
     "text": [
      "INFO:tensorflow:Assets written to: ./tmp\\checkpoint\\assets\n"
     ]
    },
    {
     "name": "stdout",
     "output_type": "stream",
     "text": [
      "1041/1041 [==============================] - 13s 13ms/step - loss: 35.2150 - root_mean_squared_error: 5.9342 - val_loss: 37.6053 - val_root_mean_squared_error: 6.1323\n",
      "Epoch 16/500\n",
      "1037/1041 [============================>.] - ETA: 0s - loss: 33.0901 - root_mean_squared_error: 5.7524INFO:tensorflow:Assets written to: ./tmp\\checkpoint\\assets\n"
     ]
    },
    {
     "name": "stderr",
     "output_type": "stream",
     "text": [
      "INFO:tensorflow:Assets written to: ./tmp\\checkpoint\\assets\n"
     ]
    },
    {
     "name": "stdout",
     "output_type": "stream",
     "text": [
      "1041/1041 [==============================] - 14s 14ms/step - loss: 33.0573 - root_mean_squared_error: 5.7495 - val_loss: 28.0994 - val_root_mean_squared_error: 5.3009\n",
      "Epoch 17/500\n",
      "1039/1041 [============================>.] - ETA: 0s - loss: 24.8730 - root_mean_squared_error: 4.9873INFO:tensorflow:Assets written to: ./tmp\\checkpoint\\assets\n"
     ]
    },
    {
     "name": "stderr",
     "output_type": "stream",
     "text": [
      "INFO:tensorflow:Assets written to: ./tmp\\checkpoint\\assets\n"
     ]
    },
    {
     "name": "stdout",
     "output_type": "stream",
     "text": [
      "1041/1041 [==============================] - 14s 14ms/step - loss: 24.9009 - root_mean_squared_error: 4.9901 - val_loss: 18.2506 - val_root_mean_squared_error: 4.2721\n",
      "Epoch 18/500\n",
      "1041/1041 [==============================] - 11s 11ms/step - loss: 26.1574 - root_mean_squared_error: 5.1144 - val_loss: 30.6898 - val_root_mean_squared_error: 5.5398\n",
      "Epoch 19/500\n",
      "1041/1041 [==============================] - 12s 11ms/step - loss: 28.3377 - root_mean_squared_error: 5.3233 - val_loss: 72.8373 - val_root_mean_squared_error: 8.5345\n",
      "Epoch 20/500\n",
      "1041/1041 [==============================] - 12s 11ms/step - loss: 149.7116 - root_mean_squared_error: 12.2357 - val_loss: 29.5155 - val_root_mean_squared_error: 5.4328\n",
      "Epoch 21/500\n",
      "1041/1041 [==============================] - 12s 11ms/step - loss: 26.2717 - root_mean_squared_error: 5.1256 - val_loss: 19.3950 - val_root_mean_squared_error: 4.4040\n",
      "Epoch 22/500\n",
      "1036/1041 [============================>.] - ETA: 0s - loss: 27.0961 - root_mean_squared_error: 5.2054INFO:tensorflow:Assets written to: ./tmp\\checkpoint\\assets\n"
     ]
    },
    {
     "name": "stderr",
     "output_type": "stream",
     "text": [
      "INFO:tensorflow:Assets written to: ./tmp\\checkpoint\\assets\n"
     ]
    },
    {
     "name": "stdout",
     "output_type": "stream",
     "text": [
      "1041/1041 [==============================] - 13s 13ms/step - loss: 27.0471 - root_mean_squared_error: 5.2007 - val_loss: 17.8471 - val_root_mean_squared_error: 4.2246\n",
      "Epoch 23/500\n",
      "1037/1041 [============================>.] - ETA: 0s - loss: 16.2864 - root_mean_squared_error: 4.0356INFO:tensorflow:Assets written to: ./tmp\\checkpoint\\assets\n"
     ]
    },
    {
     "name": "stderr",
     "output_type": "stream",
     "text": [
      "INFO:tensorflow:Assets written to: ./tmp\\checkpoint\\assets\n"
     ]
    },
    {
     "name": "stdout",
     "output_type": "stream",
     "text": [
      "1041/1041 [==============================] - 14s 13ms/step - loss: 16.2815 - root_mean_squared_error: 4.0350 - val_loss: 12.6273 - val_root_mean_squared_error: 3.5535\n",
      "Epoch 24/500\n",
      "1038/1041 [============================>.] - ETA: 0s - loss: 11.5829 - root_mean_squared_error: 3.4034INFO:tensorflow:Assets written to: ./tmp\\checkpoint\\assets\n"
     ]
    },
    {
     "name": "stderr",
     "output_type": "stream",
     "text": [
      "INFO:tensorflow:Assets written to: ./tmp\\checkpoint\\assets\n"
     ]
    },
    {
     "name": "stdout",
     "output_type": "stream",
     "text": [
      "1041/1041 [==============================] - 17s 16ms/step - loss: 11.5823 - root_mean_squared_error: 3.4033 - val_loss: 11.2799 - val_root_mean_squared_error: 3.3586\n",
      "Epoch 25/500\n",
      "1038/1041 [============================>.] - ETA: 0s - loss: 12.0752 - root_mean_squared_error: 3.4749INFO:tensorflow:Assets written to: ./tmp\\checkpoint\\assets\n"
     ]
    },
    {
     "name": "stderr",
     "output_type": "stream",
     "text": [
      "INFO:tensorflow:Assets written to: ./tmp\\checkpoint\\assets\n"
     ]
    },
    {
     "name": "stdout",
     "output_type": "stream",
     "text": [
      "1041/1041 [==============================] - 17s 16ms/step - loss: 12.0640 - root_mean_squared_error: 3.4733 - val_loss: 11.1275 - val_root_mean_squared_error: 3.3358\n",
      "Epoch 26/500\n",
      "1041/1041 [==============================] - ETA: 0s - loss: 8.8220 - root_mean_squared_error: 2.9702INFO:tensorflow:Assets written to: ./tmp\\checkpoint\\assets\n"
     ]
    },
    {
     "name": "stderr",
     "output_type": "stream",
     "text": [
      "INFO:tensorflow:Assets written to: ./tmp\\checkpoint\\assets\n"
     ]
    },
    {
     "name": "stdout",
     "output_type": "stream",
     "text": [
      "1041/1041 [==============================] - 18s 17ms/step - loss: 8.8220 - root_mean_squared_error: 2.9702 - val_loss: 5.9104 - val_root_mean_squared_error: 2.4311\n",
      "Epoch 27/500\n",
      "1038/1041 [============================>.] - ETA: 0s - loss: 6.1989 - root_mean_squared_error: 2.4898INFO:tensorflow:Assets written to: ./tmp\\checkpoint\\assets\n"
     ]
    },
    {
     "name": "stderr",
     "output_type": "stream",
     "text": [
      "INFO:tensorflow:Assets written to: ./tmp\\checkpoint\\assets\n"
     ]
    },
    {
     "name": "stdout",
     "output_type": "stream",
     "text": [
      "1041/1041 [==============================] - 18s 17ms/step - loss: 6.1929 - root_mean_squared_error: 2.4886 - val_loss: 4.6574 - val_root_mean_squared_error: 2.1581\n",
      "Epoch 28/500\n",
      "1041/1041 [==============================] - 14s 13ms/step - loss: 5.1532 - root_mean_squared_error: 2.2701 - val_loss: 4.7173 - val_root_mean_squared_error: 2.1719\n",
      "Epoch 29/500\n",
      "1041/1041 [==============================] - ETA: 0s - loss: 4.9917 - root_mean_squared_error: 2.2342INFO:tensorflow:Assets written to: ./tmp\\checkpoint\\assets\n"
     ]
    },
    {
     "name": "stderr",
     "output_type": "stream",
     "text": [
      "INFO:tensorflow:Assets written to: ./tmp\\checkpoint\\assets\n"
     ]
    },
    {
     "name": "stdout",
     "output_type": "stream",
     "text": [
      "1041/1041 [==============================] - 16s 15ms/step - loss: 4.9917 - root_mean_squared_error: 2.2342 - val_loss: 3.7649 - val_root_mean_squared_error: 1.9403\n",
      "Epoch 30/500\n",
      "1041/1041 [==============================] - 13s 12ms/step - loss: 237.5498 - root_mean_squared_error: 15.4127 - val_loss: 20.7780 - val_root_mean_squared_error: 4.5583\n",
      "Epoch 31/500\n",
      "1041/1041 [==============================] - 13s 13ms/step - loss: 12.3072 - root_mean_squared_error: 3.5082 - val_loss: 9.5461 - val_root_mean_squared_error: 3.0897\n",
      "Epoch 32/500\n",
      "1041/1041 [==============================] - 13s 13ms/step - loss: 9.5074 - root_mean_squared_error: 3.0834 - val_loss: 9.6979 - val_root_mean_squared_error: 3.1141\n",
      "Epoch 33/500\n",
      "1041/1041 [==============================] - 14s 13ms/step - loss: 18.7363 - root_mean_squared_error: 4.3285 - val_loss: 16.7570 - val_root_mean_squared_error: 4.0935\n",
      "Epoch 34/500\n",
      "1041/1041 [==============================] - 13s 13ms/step - loss: 48.2877 - root_mean_squared_error: 6.9489 - val_loss: 14.7952 - val_root_mean_squared_error: 3.8465\n",
      "Epoch 35/500\n",
      "1041/1041 [==============================] - 13s 13ms/step - loss: 10.8133 - root_mean_squared_error: 3.2884 - val_loss: 5.7461 - val_root_mean_squared_error: 2.3971\n",
      "Epoch 36/500\n",
      "1041/1041 [==============================] - 13s 13ms/step - loss: 6.1399 - root_mean_squared_error: 2.4779 - val_loss: 4.8041 - val_root_mean_squared_error: 2.1918\n",
      "Epoch 37/500\n",
      "1041/1041 [==============================] - 13s 13ms/step - loss: 5.4377 - root_mean_squared_error: 2.3319 - val_loss: 4.3781 - val_root_mean_squared_error: 2.0924\n",
      "Epoch 38/500\n",
      "1041/1041 [==============================] - 13s 12ms/step - loss: 5.1331 - root_mean_squared_error: 2.2656 - val_loss: 7.2895 - val_root_mean_squared_error: 2.6999\n",
      "Epoch 39/500\n",
      "1041/1041 [==============================] - 14s 13ms/step - loss: 5.1933 - root_mean_squared_error: 2.2789 - val_loss: 4.5682 - val_root_mean_squared_error: 2.1373\n",
      "Epoch 40/500\n",
      "1041/1041 [==============================] - 13s 12ms/step - loss: 5.0614 - root_mean_squared_error: 2.2498 - val_loss: 5.0415 - val_root_mean_squared_error: 2.2453\n",
      "Epoch 41/500\n",
      "1041/1041 [==============================] - 13s 12ms/step - loss: 6.9444 - root_mean_squared_error: 2.6352 - val_loss: 8.7794 - val_root_mean_squared_error: 2.9630\n",
      "Epoch 42/500\n",
      "1038/1041 [============================>.] - ETA: 0s - loss: 5.6314 - root_mean_squared_error: 2.3731INFO:tensorflow:Assets written to: ./tmp\\checkpoint\\assets\n"
     ]
    },
    {
     "name": "stderr",
     "output_type": "stream",
     "text": [
      "INFO:tensorflow:Assets written to: ./tmp\\checkpoint\\assets\n"
     ]
    },
    {
     "name": "stdout",
     "output_type": "stream",
     "text": [
      "1041/1041 [==============================] - 16s 15ms/step - loss: 5.6284 - root_mean_squared_error: 2.3724 - val_loss: 3.5871 - val_root_mean_squared_error: 1.8940\n",
      "Epoch 43/500\n",
      "1041/1041 [==============================] - 12s 12ms/step - loss: 8.8216 - root_mean_squared_error: 2.9701 - val_loss: 3.7996 - val_root_mean_squared_error: 1.9493\n",
      "Epoch 44/500\n",
      "1041/1041 [==============================] - 12s 12ms/step - loss: 3.4005 - root_mean_squared_error: 1.8440 - val_loss: 4.9380 - val_root_mean_squared_error: 2.2222\n",
      "Epoch 45/500\n",
      "1039/1041 [============================>.] - ETA: 0s - loss: 2.9997 - root_mean_squared_error: 1.7320INFO:tensorflow:Assets written to: ./tmp\\checkpoint\\assets\n"
     ]
    },
    {
     "name": "stderr",
     "output_type": "stream",
     "text": [
      "INFO:tensorflow:Assets written to: ./tmp\\checkpoint\\assets\n"
     ]
    },
    {
     "name": "stdout",
     "output_type": "stream",
     "text": [
      "1041/1041 [==============================] - 15s 14ms/step - loss: 2.9995 - root_mean_squared_error: 1.7319 - val_loss: 2.5255 - val_root_mean_squared_error: 1.5892\n",
      "Epoch 46/500\n",
      "1041/1041 [==============================] - 13s 12ms/step - loss: 2.7948 - root_mean_squared_error: 1.6718 - val_loss: 3.2501 - val_root_mean_squared_error: 1.8028\n",
      "Epoch 47/500\n",
      "1041/1041 [==============================] - ETA: 0s - loss: 2.5663 - root_mean_squared_error: 1.6020INFO:tensorflow:Assets written to: ./tmp\\checkpoint\\assets\n"
     ]
    },
    {
     "name": "stderr",
     "output_type": "stream",
     "text": [
      "INFO:tensorflow:Assets written to: ./tmp\\checkpoint\\assets\n"
     ]
    },
    {
     "name": "stdout",
     "output_type": "stream",
     "text": [
      "1041/1041 [==============================] - 16s 15ms/step - loss: 2.5663 - root_mean_squared_error: 1.6020 - val_loss: 2.1482 - val_root_mean_squared_error: 1.4657\n",
      "Epoch 48/500\n",
      "1041/1041 [==============================] - 13s 13ms/step - loss: 2.4851 - root_mean_squared_error: 1.5764 - val_loss: 2.1830 - val_root_mean_squared_error: 1.4775\n",
      "Epoch 49/500\n",
      "1041/1041 [==============================] - 13s 13ms/step - loss: 2.4425 - root_mean_squared_error: 1.5628 - val_loss: 3.0171 - val_root_mean_squared_error: 1.7370\n",
      "Epoch 50/500\n",
      "1041/1041 [==============================] - ETA: 0s - loss: 2.2001 - root_mean_squared_error: 1.4833INFO:tensorflow:Assets written to: ./tmp\\checkpoint\\assets\n"
     ]
    },
    {
     "name": "stderr",
     "output_type": "stream",
     "text": [
      "INFO:tensorflow:Assets written to: ./tmp\\checkpoint\\assets\n"
     ]
    },
    {
     "name": "stdout",
     "output_type": "stream",
     "text": [
      "1041/1041 [==============================] - 16s 15ms/step - loss: 2.2001 - root_mean_squared_error: 1.4833 - val_loss: 1.8979 - val_root_mean_squared_error: 1.3777\n",
      "Epoch 51/500\n",
      "1037/1041 [============================>.] - ETA: 0s - loss: 2.1324 - root_mean_squared_error: 1.4603INFO:tensorflow:Assets written to: ./tmp\\checkpoint\\assets\n"
     ]
    },
    {
     "name": "stderr",
     "output_type": "stream",
     "text": [
      "INFO:tensorflow:Assets written to: ./tmp\\checkpoint\\assets\n"
     ]
    },
    {
     "name": "stdout",
     "output_type": "stream",
     "text": [
      "1041/1041 [==============================] - 15s 15ms/step - loss: 2.1314 - root_mean_squared_error: 1.4599 - val_loss: 1.8047 - val_root_mean_squared_error: 1.3434\n",
      "Epoch 52/500\n",
      "1041/1041 [==============================] - 13s 12ms/step - loss: 2.0690 - root_mean_squared_error: 1.4384 - val_loss: 1.8863 - val_root_mean_squared_error: 1.3734\n",
      "Epoch 53/500\n",
      "1041/1041 [==============================] - ETA: 0s - loss: 2.0150 - root_mean_squared_error: 1.4195INFO:tensorflow:Assets written to: ./tmp\\checkpoint\\assets\n"
     ]
    },
    {
     "name": "stderr",
     "output_type": "stream",
     "text": [
      "INFO:tensorflow:Assets written to: ./tmp\\checkpoint\\assets\n"
     ]
    },
    {
     "name": "stdout",
     "output_type": "stream",
     "text": [
      "1041/1041 [==============================] - 15s 14ms/step - loss: 2.0150 - root_mean_squared_error: 1.4195 - val_loss: 1.7949 - val_root_mean_squared_error: 1.3397\n",
      "Epoch 54/500\n",
      "1037/1041 [============================>.] - ETA: 0s - loss: 1.8910 - root_mean_squared_error: 1.3752INFO:tensorflow:Assets written to: ./tmp\\checkpoint\\assets\n"
     ]
    },
    {
     "name": "stderr",
     "output_type": "stream",
     "text": [
      "INFO:tensorflow:Assets written to: ./tmp\\checkpoint\\assets\n"
     ]
    },
    {
     "name": "stdout",
     "output_type": "stream",
     "text": [
      "1041/1041 [==============================] - 15s 14ms/step - loss: 1.8910 - root_mean_squared_error: 1.3751 - val_loss: 1.7828 - val_root_mean_squared_error: 1.3352\n",
      "Epoch 55/500\n",
      "1039/1041 [============================>.] - ETA: 0s - loss: 1.8620 - root_mean_squared_error: 1.3645INFO:tensorflow:Assets written to: ./tmp\\checkpoint\\assets\n"
     ]
    },
    {
     "name": "stderr",
     "output_type": "stream",
     "text": [
      "INFO:tensorflow:Assets written to: ./tmp\\checkpoint\\assets\n"
     ]
    },
    {
     "name": "stdout",
     "output_type": "stream",
     "text": [
      "1041/1041 [==============================] - 15s 14ms/step - loss: 1.8614 - root_mean_squared_error: 1.3643 - val_loss: 1.4503 - val_root_mean_squared_error: 1.2043\n",
      "Epoch 56/500\n",
      "1041/1041 [==============================] - 13s 12ms/step - loss: 34.3921 - root_mean_squared_error: 5.8645 - val_loss: 4.8917 - val_root_mean_squared_error: 2.2117\n",
      "Epoch 57/500\n",
      "1041/1041 [==============================] - 13s 12ms/step - loss: 4.3835 - root_mean_squared_error: 2.0937 - val_loss: 3.9171 - val_root_mean_squared_error: 1.9792\n",
      "Epoch 58/500\n",
      "1041/1041 [==============================] - 12s 12ms/step - loss: 3.0956 - root_mean_squared_error: 1.7594 - val_loss: 2.4331 - val_root_mean_squared_error: 1.5598\n",
      "Epoch 59/500\n",
      "1041/1041 [==============================] - 13s 12ms/step - loss: 2.1179 - root_mean_squared_error: 1.4553 - val_loss: 1.9101 - val_root_mean_squared_error: 1.3821\n",
      "Epoch 60/500\n",
      "1041/1041 [==============================] - 13s 12ms/step - loss: 2.0155 - root_mean_squared_error: 1.4197 - val_loss: 2.0363 - val_root_mean_squared_error: 1.4270\n",
      "Epoch 61/500\n",
      "1041/1041 [==============================] - 12s 12ms/step - loss: 1.9927 - root_mean_squared_error: 1.4116 - val_loss: 2.1061 - val_root_mean_squared_error: 1.4512\n",
      "Epoch 62/500\n",
      "1041/1041 [==============================] - 12s 12ms/step - loss: 1.9498 - root_mean_squared_error: 1.3964 - val_loss: 1.8124 - val_root_mean_squared_error: 1.3462\n",
      "Epoch 63/500\n",
      "1041/1041 [==============================] - 13s 12ms/step - loss: 1.8748 - root_mean_squared_error: 1.3692 - val_loss: 1.9273 - val_root_mean_squared_error: 1.3883\n",
      "Epoch 64/500\n",
      "1041/1041 [==============================] - 13s 12ms/step - loss: 1.8090 - root_mean_squared_error: 1.3450 - val_loss: 1.5550 - val_root_mean_squared_error: 1.2470\n",
      "Epoch 65/500\n",
      "1041/1041 [==============================] - 13s 12ms/step - loss: 1.6784 - root_mean_squared_error: 1.2955 - val_loss: 1.5959 - val_root_mean_squared_error: 1.2633\n",
      "Epoch 66/500\n",
      "1041/1041 [==============================] - 12s 12ms/step - loss: 1.7055 - root_mean_squared_error: 1.3059 - val_loss: 2.5866 - val_root_mean_squared_error: 1.6083\n",
      "Epoch 67/500\n",
      "1040/1041 [============================>.] - ETA: 0s - loss: 1.6729 - root_mean_squared_error: 1.2934INFO:tensorflow:Assets written to: ./tmp\\checkpoint\\assets\n"
     ]
    },
    {
     "name": "stderr",
     "output_type": "stream",
     "text": [
      "INFO:tensorflow:Assets written to: ./tmp\\checkpoint\\assets\n"
     ]
    },
    {
     "name": "stdout",
     "output_type": "stream",
     "text": [
      "1041/1041 [==============================] - 15s 14ms/step - loss: 1.6724 - root_mean_squared_error: 1.2932 - val_loss: 1.4114 - val_root_mean_squared_error: 1.1880\n",
      "Epoch 68/500\n",
      "1039/1041 [============================>.] - ETA: 0s - loss: 1.6001 - root_mean_squared_error: 1.2650INFO:tensorflow:Assets written to: ./tmp\\checkpoint\\assets\n"
     ]
    },
    {
     "name": "stderr",
     "output_type": "stream",
     "text": [
      "INFO:tensorflow:Assets written to: ./tmp\\checkpoint\\assets\n"
     ]
    },
    {
     "name": "stdout",
     "output_type": "stream",
     "text": [
      "1041/1041 [==============================] - 16s 15ms/step - loss: 1.5995 - root_mean_squared_error: 1.2647 - val_loss: 1.3467 - val_root_mean_squared_error: 1.1605\n",
      "Epoch 69/500\n",
      "1038/1041 [============================>.] - ETA: 0s - loss: 1.5587 - root_mean_squared_error: 1.2485INFO:tensorflow:Assets written to: ./tmp\\checkpoint\\assets\n"
     ]
    },
    {
     "name": "stderr",
     "output_type": "stream",
     "text": [
      "INFO:tensorflow:Assets written to: ./tmp\\checkpoint\\assets\n"
     ]
    },
    {
     "name": "stdout",
     "output_type": "stream",
     "text": [
      "1041/1041 [==============================] - 15s 14ms/step - loss: 1.5578 - root_mean_squared_error: 1.2481 - val_loss: 1.3238 - val_root_mean_squared_error: 1.1506\n",
      "Epoch 70/500\n",
      "1041/1041 [==============================] - 13s 12ms/step - loss: 1.5725 - root_mean_squared_error: 1.2540 - val_loss: 1.5530 - val_root_mean_squared_error: 1.2462\n",
      "Epoch 71/500\n",
      "1041/1041 [==============================] - 12s 12ms/step - loss: 1.4621 - root_mean_squared_error: 1.2092 - val_loss: 1.8477 - val_root_mean_squared_error: 1.3593\n",
      "Epoch 72/500\n",
      "1041/1041 [==============================] - ETA: 0s - loss: 1.4718 - root_mean_squared_error: 1.2132INFO:tensorflow:Assets written to: ./tmp\\checkpoint\\assets\n"
     ]
    },
    {
     "name": "stderr",
     "output_type": "stream",
     "text": [
      "INFO:tensorflow:Assets written to: ./tmp\\checkpoint\\assets\n"
     ]
    },
    {
     "name": "stdout",
     "output_type": "stream",
     "text": [
      "1041/1041 [==============================] - 15s 15ms/step - loss: 1.4718 - root_mean_squared_error: 1.2132 - val_loss: 1.1720 - val_root_mean_squared_error: 1.0826\n",
      "Epoch 73/500\n",
      "1041/1041 [==============================] - 12s 12ms/step - loss: 1.4394 - root_mean_squared_error: 1.1997 - val_loss: 1.9990 - val_root_mean_squared_error: 1.4139\n",
      "Epoch 74/500\n",
      "1041/1041 [==============================] - 12s 12ms/step - loss: 1.4223 - root_mean_squared_error: 1.1926 - val_loss: 2.0859 - val_root_mean_squared_error: 1.4443\n",
      "Epoch 75/500\n",
      "1039/1041 [============================>.] - ETA: 0s - loss: 1.3395 - root_mean_squared_error: 1.1574INFO:tensorflow:Assets written to: ./tmp\\checkpoint\\assets\n"
     ]
    },
    {
     "name": "stderr",
     "output_type": "stream",
     "text": [
      "INFO:tensorflow:Assets written to: ./tmp\\checkpoint\\assets\n"
     ]
    },
    {
     "name": "stdout",
     "output_type": "stream",
     "text": [
      "1041/1041 [==============================] - 15s 14ms/step - loss: 1.3390 - root_mean_squared_error: 1.1571 - val_loss: 1.0365 - val_root_mean_squared_error: 1.0181\n",
      "Epoch 76/500\n",
      "1041/1041 [==============================] - 12s 12ms/step - loss: 1.3738 - root_mean_squared_error: 1.1721 - val_loss: 1.0601 - val_root_mean_squared_error: 1.0296\n",
      "Epoch 77/500\n",
      "1041/1041 [==============================] - 12s 12ms/step - loss: 1.3571 - root_mean_squared_error: 1.1649 - val_loss: 1.3394 - val_root_mean_squared_error: 1.1573\n",
      "Epoch 78/500\n",
      "1041/1041 [==============================] - ETA: 0s - loss: 1.4035 - root_mean_squared_error: 1.1847INFO:tensorflow:Assets written to: ./tmp\\checkpoint\\assets\n"
     ]
    },
    {
     "name": "stderr",
     "output_type": "stream",
     "text": [
      "INFO:tensorflow:Assets written to: ./tmp\\checkpoint\\assets\n"
     ]
    },
    {
     "name": "stdout",
     "output_type": "stream",
     "text": [
      "1041/1041 [==============================] - 15s 14ms/step - loss: 1.4035 - root_mean_squared_error: 1.1847 - val_loss: 0.9852 - val_root_mean_squared_error: 0.9926\n",
      "Epoch 79/500\n",
      "1041/1041 [==============================] - 13s 13ms/step - loss: 1.2904 - root_mean_squared_error: 1.1359 - val_loss: 1.4875 - val_root_mean_squared_error: 1.2196\n",
      "Epoch 80/500\n",
      "1041/1041 [==============================] - 13s 12ms/step - loss: 1.3190 - root_mean_squared_error: 1.1485 - val_loss: 1.1495 - val_root_mean_squared_error: 1.0722\n",
      "Epoch 81/500\n",
      "1041/1041 [==============================] - 13s 12ms/step - loss: 1.2465 - root_mean_squared_error: 1.1165 - val_loss: 2.0711 - val_root_mean_squared_error: 1.4391\n",
      "Epoch 82/500\n",
      "1041/1041 [==============================] - ETA: 0s - loss: 1.3516 - root_mean_squared_error: 1.1626INFO:tensorflow:Assets written to: ./tmp\\checkpoint\\assets\n"
     ]
    },
    {
     "name": "stderr",
     "output_type": "stream",
     "text": [
      "INFO:tensorflow:Assets written to: ./tmp\\checkpoint\\assets\n"
     ]
    },
    {
     "name": "stdout",
     "output_type": "stream",
     "text": [
      "1041/1041 [==============================] - 16s 15ms/step - loss: 1.3516 - root_mean_squared_error: 1.1626 - val_loss: 0.9545 - val_root_mean_squared_error: 0.9770\n",
      "Epoch 83/500\n",
      "1037/1041 [============================>.] - ETA: 0s - loss: 1.2274 - root_mean_squared_error: 1.1079INFO:tensorflow:Assets written to: ./tmp\\checkpoint\\assets\n"
     ]
    },
    {
     "name": "stderr",
     "output_type": "stream",
     "text": [
      "INFO:tensorflow:Assets written to: ./tmp\\checkpoint\\assets\n"
     ]
    },
    {
     "name": "stdout",
     "output_type": "stream",
     "text": [
      "1041/1041 [==============================] - 14s 14ms/step - loss: 1.2278 - root_mean_squared_error: 1.1080 - val_loss: 0.9354 - val_root_mean_squared_error: 0.9671\n",
      "Epoch 84/500\n",
      "1041/1041 [==============================] - 12s 11ms/step - loss: 1.2595 - root_mean_squared_error: 1.1223 - val_loss: 0.9988 - val_root_mean_squared_error: 0.9994\n",
      "Epoch 85/500\n",
      "1041/1041 [==============================] - 12s 11ms/step - loss: 1.2207 - root_mean_squared_error: 1.1049 - val_loss: 1.2249 - val_root_mean_squared_error: 1.1068\n",
      "Epoch 86/500\n",
      "1041/1041 [==============================] - 12s 11ms/step - loss: 1.1994 - root_mean_squared_error: 1.0952 - val_loss: 1.8416 - val_root_mean_squared_error: 1.3571\n",
      "Epoch 87/500\n",
      "1041/1041 [==============================] - ETA: 0s - loss: 1.2337 - root_mean_squared_error: 1.1107INFO:tensorflow:Assets written to: ./tmp\\checkpoint\\assets\n"
     ]
    },
    {
     "name": "stderr",
     "output_type": "stream",
     "text": [
      "INFO:tensorflow:Assets written to: ./tmp\\checkpoint\\assets\n"
     ]
    },
    {
     "name": "stdout",
     "output_type": "stream",
     "text": [
      "1041/1041 [==============================] - 14s 14ms/step - loss: 1.2337 - root_mean_squared_error: 1.1107 - val_loss: 0.8992 - val_root_mean_squared_error: 0.9482\n",
      "Epoch 88/500\n",
      "1041/1041 [==============================] - 12s 11ms/step - loss: 1.2558 - root_mean_squared_error: 1.1206 - val_loss: 1.0485 - val_root_mean_squared_error: 1.0240\n",
      "Epoch 89/500\n",
      "1041/1041 [==============================] - 12s 11ms/step - loss: 9.7527 - root_mean_squared_error: 3.1229 - val_loss: 1.8054 - val_root_mean_squared_error: 1.3437\n",
      "Epoch 90/500\n",
      "1041/1041 [==============================] - 12s 11ms/step - loss: 2.1902 - root_mean_squared_error: 1.4799 - val_loss: 1.5088 - val_root_mean_squared_error: 1.2283\n",
      "Epoch 91/500\n",
      "1041/1041 [==============================] - 12s 12ms/step - loss: 1.2666 - root_mean_squared_error: 1.1254 - val_loss: 1.0935 - val_root_mean_squared_error: 1.0457\n",
      "Epoch 92/500\n",
      "1041/1041 [==============================] - 12s 11ms/step - loss: 1.2186 - root_mean_squared_error: 1.1039 - val_loss: 1.5842 - val_root_mean_squared_error: 1.2587\n",
      "Epoch 93/500\n",
      "1041/1041 [==============================] - 12s 12ms/step - loss: 1.2599 - root_mean_squared_error: 1.1225 - val_loss: 1.2458 - val_root_mean_squared_error: 1.1161\n",
      "Epoch 94/500\n",
      "1041/1041 [==============================] - 12s 12ms/step - loss: 1.2525 - root_mean_squared_error: 1.1192 - val_loss: 1.0915 - val_root_mean_squared_error: 1.0448\n",
      "Epoch 95/500\n",
      "1041/1041 [==============================] - 12s 12ms/step - loss: 1.2661 - root_mean_squared_error: 1.1252 - val_loss: 0.9400 - val_root_mean_squared_error: 0.9695\n",
      "Epoch 96/500\n",
      "1041/1041 [==============================] - 12s 12ms/step - loss: 1.2006 - root_mean_squared_error: 1.0957 - val_loss: 1.3015 - val_root_mean_squared_error: 1.1408\n",
      "Epoch 97/500\n",
      "1041/1041 [==============================] - 12s 12ms/step - loss: 1.2135 - root_mean_squared_error: 1.1016 - val_loss: 0.9698 - val_root_mean_squared_error: 0.9848\n",
      "Epoch 98/500\n",
      "1041/1041 [==============================] - 12s 12ms/step - loss: 1.2071 - root_mean_squared_error: 1.0987 - val_loss: 1.3929 - val_root_mean_squared_error: 1.1802\n",
      "Epoch 99/500\n",
      "1041/1041 [==============================] - 12s 12ms/step - loss: 1.2453 - root_mean_squared_error: 1.1159 - val_loss: 1.1383 - val_root_mean_squared_error: 1.0669\n",
      "Epoch 100/500\n",
      "1041/1041 [==============================] - 12s 11ms/step - loss: 1.2503 - root_mean_squared_error: 1.1182 - val_loss: 1.1968 - val_root_mean_squared_error: 1.0940\n",
      "Epoch 101/500\n",
      "1041/1041 [==============================] - 12s 11ms/step - loss: 1.2406 - root_mean_squared_error: 1.1138 - val_loss: 1.0753 - val_root_mean_squared_error: 1.0370\n",
      "Epoch 102/500\n",
      "1041/1041 [==============================] - 12s 12ms/step - loss: 1.2114 - root_mean_squared_error: 1.1006 - val_loss: 1.0632 - val_root_mean_squared_error: 1.0311\n",
      "Epoch 103/500\n",
      "1041/1041 [==============================] - 12s 11ms/step - loss: 1.2595 - root_mean_squared_error: 1.1223 - val_loss: 1.5306 - val_root_mean_squared_error: 1.2372\n",
      "Epoch 104/500\n",
      "1041/1041 [==============================] - 12s 12ms/step - loss: 1.1927 - root_mean_squared_error: 1.0921 - val_loss: 1.7165 - val_root_mean_squared_error: 1.3101\n",
      "Epoch 105/500\n",
      "1041/1041 [==============================] - 12s 12ms/step - loss: 1.1850 - root_mean_squared_error: 1.0886 - val_loss: 0.9250 - val_root_mean_squared_error: 0.9618\n",
      "Epoch 106/500\n",
      "1041/1041 [==============================] - 12s 11ms/step - loss: 1.2291 - root_mean_squared_error: 1.1086 - val_loss: 1.0712 - val_root_mean_squared_error: 1.0350\n",
      "Epoch 107/500\n",
      "1041/1041 [==============================] - 12s 11ms/step - loss: 1.1936 - root_mean_squared_error: 1.0925 - val_loss: 1.0154 - val_root_mean_squared_error: 1.0077\n"
     ]
    }
   ],
   "source": [
    "# Define the ModelCheckpoint and EarlyStopping callbacks\n",
    "check_point = ModelCheckpoint('./tmp/checkpoint', save_best_only=True, monitor='val_loss', mode='min')\n",
    "early_stopping = EarlyStopping(monitor='val_loss', patience=20, restore_best_weights=True)\n",
    "\n",
    "# Train the model with the callbacks\n",
    "history = model.fit(X_train, y_train, epochs=500, batch_size=64, validation_data=(X_val, y_val), callbacks=[check_point, early_stopping])"
   ]
  },
  {
   "cell_type": "code",
   "execution_count": 23,
   "id": "3a2ee862-5885-4a1b-b9f0-88fa2aac6021",
   "metadata": {},
   "outputs": [
    {
     "name": "stdout",
     "output_type": "stream",
     "text": [
      "595/595 [==============================] - 2s 3ms/step - loss: 0.8754 - root_mean_squared_error: 0.9356\n",
      "Test Loss: [0.8753836750984192, 0.9356194138526917]\n"
     ]
    }
   ],
   "source": [
    "# Evaluate the model\n",
    "test_loss = model.evaluate(X_test, y_test, verbose=1)\n",
    "print(f'Test Loss: {test_loss}')"
   ]
  },
  {
   "cell_type": "code",
   "execution_count": 24,
   "id": "4be2a447-2057-48ac-b867-e98130ac663e",
   "metadata": {},
   "outputs": [
    {
     "name": "stdout",
     "output_type": "stream",
     "text": [
      "595/595 [==============================] - 2s 3ms/step\n",
      "Mean Squared Error: 0.8753839159143876\n",
      "Mean Absolute Error: 0.6945069270286323\n",
      "R-squared Score: 0.8921417591393814\n"
     ]
    }
   ],
   "source": [
    "# Predict on the test data\n",
    "y_pred = model.predict(X_test, verbose=1)\n",
    "\n",
    "# Calculate evaluation metrics\n",
    "from sklearn.metrics import mean_squared_error, mean_absolute_error, r2_score\n",
    "\n",
    "# Calculate Mean Squared Error\n",
    "mse = mean_squared_error(y_test, y_pred)\n",
    "print(f'Mean Squared Error: {mse}')\n",
    "\n",
    "# Calculate Mean Absolute Error\n",
    "mae = mean_absolute_error(y_test, y_pred)\n",
    "print(f'Mean Absolute Error: {mae}')\n",
    "\n",
    "# Calculate R-squared Score\n",
    "r2 = r2_score(y_test, y_pred)\n",
    "print(f'R-squared Score: {r2}')"
   ]
  },
  {
   "cell_type": "code",
   "execution_count": 25,
   "id": "3a00147d-ce7c-4b66-ab6a-360a7747a769",
   "metadata": {},
   "outputs": [
    {
     "name": "stdout",
     "output_type": "stream",
     "text": [
      "Root Mean Squared Error: 0.9356195358768369\n"
     ]
    }
   ],
   "source": [
    "rmse = np.sqrt(mean_squared_error(y_test, y_pred))\n",
    "print(f'Root Mean Squared Error: {rmse}')\n"
   ]
  },
  {
   "cell_type": "code",
   "execution_count": 26,
   "id": "f77bbc1b-1936-4ccb-9fb0-87d30bf503dc",
   "metadata": {},
   "outputs": [
    {
     "data": {
      "text/plain": [
       "(19033, 24, 9)"
      ]
     },
     "execution_count": 26,
     "metadata": {},
     "output_type": "execute_result"
    }
   ],
   "source": [
    "X_test.shape"
   ]
  },
  {
   "cell_type": "code",
   "execution_count": 27,
   "id": "585ec22a-bafe-40ac-a674-93aae2a79440",
   "metadata": {},
   "outputs": [
    {
     "name": "stdout",
     "output_type": "stream",
     "text": [
      "595/595 [==============================] - 2s 3ms/step\n"
     ]
    },
    {
     "data": {
      "text/plain": [
       "array([[23.853918],\n",
       "       [23.780584],\n",
       "       [23.825888],\n",
       "       ...,\n",
       "       [24.527517],\n",
       "       [24.921774],\n",
       "       [24.975592]], dtype=float32)"
      ]
     },
     "execution_count": 27,
     "metadata": {},
     "output_type": "execute_result"
    }
   ],
   "source": [
    "# Make predictions\n",
    "predictions = model.predict(X_test)\n",
    "predictions"
   ]
  },
  {
   "cell_type": "code",
   "execution_count": 28,
   "id": "f797086c-68a9-4acc-bdf1-1242113c17a0",
   "metadata": {},
   "outputs": [
    {
     "data": {
      "text/plain": [
       "array([[23.88888889],\n",
       "       [23.88888889],\n",
       "       [23.88888889],\n",
       "       ...,\n",
       "       [25.        ],\n",
       "       [25.        ],\n",
       "       [25.        ]])"
      ]
     },
     "execution_count": 28,
     "metadata": {},
     "output_type": "execute_result"
    }
   ],
   "source": [
    "y_test"
   ]
  },
  {
   "cell_type": "code",
   "execution_count": 29,
   "id": "d6e6e85b-95b8-466e-8b64-79cdf9f56897",
   "metadata": {},
   "outputs": [
    {
     "data": {
      "text/plain": [
       "array([[2.5000000e+01, 7.7000000e+01, 1.0000000e+00, 2.9680000e+01,\n",
       "        9.4000000e+01, 2.0220000e+03, 9.0000000e+00, 8.0000000e+00,\n",
       "        4.0000000e+00],\n",
       "       [2.5000000e+01, 7.7000000e+01, 1.0000000e+00, 2.9680000e+01,\n",
       "        9.4000000e+01, 2.0220000e+03, 9.0000000e+00, 8.0000000e+00,\n",
       "        5.0000000e+00],\n",
       "       [2.5000000e+01, 7.7000000e+01, 1.0000000e+00, 2.9680000e+01,\n",
       "        9.4000000e+01, 2.0220000e+03, 9.0000000e+00, 8.0000000e+00,\n",
       "        6.0000000e+00],\n",
       "       [2.5000000e+01, 7.7000000e+01, 2.0000000e+00, 2.9709999e+01,\n",
       "        9.4000000e+01, 2.0220000e+03, 9.0000000e+00, 8.0000000e+00,\n",
       "        7.0000000e+00],\n",
       "       [2.5000000e+01, 7.7000000e+01, 1.0000000e+00, 2.9709999e+01,\n",
       "        9.4000000e+01, 2.0220000e+03, 9.0000000e+00, 8.0000000e+00,\n",
       "        8.0000000e+00],\n",
       "       [2.6111111e+01, 7.9000000e+01, 1.0000000e+00, 2.9740000e+01,\n",
       "        9.4000000e+01, 2.0220000e+03, 9.0000000e+00, 8.0000000e+00,\n",
       "        9.0000000e+00],\n",
       "       [2.7222221e+01, 8.1000000e+01, 2.0000000e+00, 2.9770000e+01,\n",
       "        8.9000000e+01, 2.0220000e+03, 9.0000000e+00, 8.0000000e+00,\n",
       "        1.0000000e+01],\n",
       "       [2.7777779e+01, 8.2000000e+01, 3.0000000e+00, 2.9770000e+01,\n",
       "        8.4000000e+01, 2.0220000e+03, 9.0000000e+00, 8.0000000e+00,\n",
       "        1.1000000e+01],\n",
       "       [2.8888889e+01, 8.4000000e+01, 3.0000000e+00, 2.9740000e+01,\n",
       "        8.4000000e+01, 2.0220000e+03, 9.0000000e+00, 8.0000000e+00,\n",
       "        1.2000000e+01],\n",
       "       [3.0000000e+01, 8.6000000e+01, 1.0000000e+00, 2.9740000e+01,\n",
       "        7.4000000e+01, 2.0220000e+03, 9.0000000e+00, 8.0000000e+00,\n",
       "        1.3000000e+01],\n",
       "       [3.1111111e+01, 8.8000000e+01, 5.0000000e+00, 2.9680000e+01,\n",
       "        7.5000000e+01, 2.0220000e+03, 9.0000000e+00, 8.0000000e+00,\n",
       "        1.4000000e+01],\n",
       "       [3.2222221e+01, 9.0000000e+01, 5.0000000e+00, 2.9650000e+01,\n",
       "        6.6000000e+01, 2.0220000e+03, 9.0000000e+00, 8.0000000e+00,\n",
       "        1.5000000e+01],\n",
       "       [3.1111111e+01, 8.8000000e+01, 1.0000000e+01, 2.9650000e+01,\n",
       "        7.0000000e+01, 2.0220000e+03, 9.0000000e+00, 8.0000000e+00,\n",
       "        1.6000000e+01],\n",
       "       [2.8888889e+01, 8.4000000e+01, 1.3000000e+01, 2.9650000e+01,\n",
       "        7.0000000e+01, 2.0220000e+03, 9.0000000e+00, 8.0000000e+00,\n",
       "        1.7000000e+01],\n",
       "       [2.7222221e+01, 8.1000000e+01, 3.0000000e+00, 2.9650000e+01,\n",
       "        8.4000000e+01, 2.0220000e+03, 9.0000000e+00, 8.0000000e+00,\n",
       "        1.7000000e+01],\n",
       "       [2.6111111e+01, 7.9000000e+01, 7.0000000e+00, 2.9680000e+01,\n",
       "        8.9000000e+01, 2.0220000e+03, 9.0000000e+00, 8.0000000e+00,\n",
       "        1.8000000e+01],\n",
       "       [2.3888889e+01, 7.5000000e+01, 3.0000000e+00, 2.9680000e+01,\n",
       "        9.4000000e+01, 2.0220000e+03, 9.0000000e+00, 8.0000000e+00,\n",
       "        1.9000000e+01],\n",
       "       [2.3888889e+01, 7.5000000e+01, 2.0000000e+00, 2.9680000e+01,\n",
       "        8.9000000e+01, 2.0220000e+03, 9.0000000e+00, 8.0000000e+00,\n",
       "        1.9000000e+01],\n",
       "       [2.3888889e+01, 7.5000000e+01, 1.0000000e+00, 2.9680000e+01,\n",
       "        8.9000000e+01, 2.0220000e+03, 9.0000000e+00, 8.0000000e+00,\n",
       "        2.0000000e+01],\n",
       "       [2.3888889e+01, 7.5000000e+01, 1.0000000e+00, 2.9709999e+01,\n",
       "        8.9000000e+01, 2.0220000e+03, 9.0000000e+00, 8.0000000e+00,\n",
       "        2.1000000e+01],\n",
       "       [2.3888889e+01, 7.5000000e+01, 1.0000000e+00, 2.9740000e+01,\n",
       "        9.4000000e+01, 2.0220000e+03, 9.0000000e+00, 8.0000000e+00,\n",
       "        2.2000000e+01],\n",
       "       [2.3888889e+01, 7.5000000e+01, 1.0000000e+00, 2.9740000e+01,\n",
       "        9.4000000e+01, 2.0220000e+03, 9.0000000e+00, 8.0000000e+00,\n",
       "        2.3000000e+01],\n",
       "       [2.3888889e+01, 7.5000000e+01, 1.0000000e+00, 2.9740000e+01,\n",
       "        9.4000000e+01, 2.0220000e+03, 9.0000000e+00, 9.0000000e+00,\n",
       "        0.0000000e+00],\n",
       "       [2.3888889e+01, 7.5000000e+01, 1.0000000e+00, 2.9740000e+01,\n",
       "        9.4000000e+01, 2.0220000e+03, 9.0000000e+00, 9.0000000e+00,\n",
       "        1.0000000e+00]], dtype=float32)"
      ]
     },
     "execution_count": 29,
     "metadata": {},
     "output_type": "execute_result"
    }
   ],
   "source": [
    "X_test[1]"
   ]
  },
  {
   "cell_type": "code",
   "execution_count": 34,
   "id": "139ab766-a953-4325-901a-364b13e2d9c9",
   "metadata": {},
   "outputs": [
    {
     "name": "stdout",
     "output_type": "stream",
     "text": [
      "   Actual Temperature (Normalized)  Predicted Temperature (Normalized)\n",
      "0                        23.888889                           23.853918\n",
      "1                        23.888889                           23.780584\n",
      "2                        23.888889                           23.825888\n",
      "3                        23.888889                           23.763998\n",
      "4                        23.888889                           23.581900\n"
     ]
    }
   ],
   "source": [
    "# Create a DataFrame to compare actual and predicted values\n",
    "comparison_df = pd.DataFrame({\n",
    "    'Actual Temperature (Normalized)': y_test.flatten(),  # Flatten to 1D for DataFrame\n",
    "    'Predicted Temperature (Normalized)': y_pred.flatten()\n",
    "})\n",
    "\n",
    "# Display the first few rows of the comparison\n",
    "print(comparison_df.head())"
   ]
  },
  {
   "cell_type": "code",
   "execution_count": 30,
   "id": "18d74224-692f-44dc-b3ab-b906ca2e6de8",
   "metadata": {},
   "outputs": [
    {
     "data": {
      "text/html": [
       "<div>\n",
       "<style scoped>\n",
       "    .dataframe tbody tr th:only-of-type {\n",
       "        vertical-align: middle;\n",
       "    }\n",
       "\n",
       "    .dataframe tbody tr th {\n",
       "        vertical-align: top;\n",
       "    }\n",
       "\n",
       "    .dataframe thead th {\n",
       "        text-align: right;\n",
       "    }\n",
       "</style>\n",
       "<table border=\"1\" class=\"dataframe\">\n",
       "  <thead>\n",
       "    <tr style=\"text-align: right;\">\n",
       "      <th></th>\n",
       "      <th>temp_celsius</th>\n",
       "      <th>temp_fahrenheit</th>\n",
       "      <th>wind_speed_mph</th>\n",
       "      <th>pressure</th>\n",
       "      <th>humidity(%)</th>\n",
       "      <th>Year</th>\n",
       "      <th>Month</th>\n",
       "      <th>Day</th>\n",
       "      <th>Hour</th>\n",
       "      <th>temp_pred</th>\n",
       "      <th>date</th>\n",
       "    </tr>\n",
       "  </thead>\n",
       "  <tbody>\n",
       "    <tr>\n",
       "      <th>76132</th>\n",
       "      <td>25.000000</td>\n",
       "      <td>77</td>\n",
       "      <td>3</td>\n",
       "      <td>29.68</td>\n",
       "      <td>94</td>\n",
       "      <td>2022</td>\n",
       "      <td>9</td>\n",
       "      <td>8</td>\n",
       "      <td>3</td>\n",
       "      <td>23.853918</td>\n",
       "      <td>2022-09-08 03:00:00</td>\n",
       "    </tr>\n",
       "    <tr>\n",
       "      <th>76133</th>\n",
       "      <td>25.000000</td>\n",
       "      <td>77</td>\n",
       "      <td>1</td>\n",
       "      <td>29.68</td>\n",
       "      <td>94</td>\n",
       "      <td>2022</td>\n",
       "      <td>9</td>\n",
       "      <td>8</td>\n",
       "      <td>4</td>\n",
       "      <td>23.780584</td>\n",
       "      <td>2022-09-08 04:00:00</td>\n",
       "    </tr>\n",
       "    <tr>\n",
       "      <th>76134</th>\n",
       "      <td>25.000000</td>\n",
       "      <td>77</td>\n",
       "      <td>1</td>\n",
       "      <td>29.68</td>\n",
       "      <td>94</td>\n",
       "      <td>2022</td>\n",
       "      <td>9</td>\n",
       "      <td>8</td>\n",
       "      <td>5</td>\n",
       "      <td>23.825888</td>\n",
       "      <td>2022-09-08 05:00:00</td>\n",
       "    </tr>\n",
       "    <tr>\n",
       "      <th>76135</th>\n",
       "      <td>25.000000</td>\n",
       "      <td>77</td>\n",
       "      <td>1</td>\n",
       "      <td>29.68</td>\n",
       "      <td>94</td>\n",
       "      <td>2022</td>\n",
       "      <td>9</td>\n",
       "      <td>8</td>\n",
       "      <td>6</td>\n",
       "      <td>23.763998</td>\n",
       "      <td>2022-09-08 06:00:00</td>\n",
       "    </tr>\n",
       "    <tr>\n",
       "      <th>76136</th>\n",
       "      <td>25.000000</td>\n",
       "      <td>77</td>\n",
       "      <td>2</td>\n",
       "      <td>29.71</td>\n",
       "      <td>94</td>\n",
       "      <td>2022</td>\n",
       "      <td>9</td>\n",
       "      <td>8</td>\n",
       "      <td>7</td>\n",
       "      <td>23.581900</td>\n",
       "      <td>2022-09-08 07:00:00</td>\n",
       "    </tr>\n",
       "    <tr>\n",
       "      <th>...</th>\n",
       "      <td>...</td>\n",
       "      <td>...</td>\n",
       "      <td>...</td>\n",
       "      <td>...</td>\n",
       "      <td>...</td>\n",
       "      <td>...</td>\n",
       "      <td>...</td>\n",
       "      <td>...</td>\n",
       "      <td>...</td>\n",
       "      <td>...</td>\n",
       "      <td>...</td>\n",
       "    </tr>\n",
       "    <tr>\n",
       "      <th>95160</th>\n",
       "      <td>25.000000</td>\n",
       "      <td>77</td>\n",
       "      <td>1</td>\n",
       "      <td>29.71</td>\n",
       "      <td>89</td>\n",
       "      <td>2024</td>\n",
       "      <td>9</td>\n",
       "      <td>24</td>\n",
       "      <td>0</td>\n",
       "      <td>24.917669</td>\n",
       "      <td>2024-09-24 00:00:00</td>\n",
       "    </tr>\n",
       "    <tr>\n",
       "      <th>95161</th>\n",
       "      <td>25.000000</td>\n",
       "      <td>77</td>\n",
       "      <td>1</td>\n",
       "      <td>29.68</td>\n",
       "      <td>89</td>\n",
       "      <td>2024</td>\n",
       "      <td>9</td>\n",
       "      <td>24</td>\n",
       "      <td>1</td>\n",
       "      <td>25.182287</td>\n",
       "      <td>2024-09-24 01:00:00</td>\n",
       "    </tr>\n",
       "    <tr>\n",
       "      <th>95162</th>\n",
       "      <td>23.888889</td>\n",
       "      <td>75</td>\n",
       "      <td>1</td>\n",
       "      <td>29.65</td>\n",
       "      <td>100</td>\n",
       "      <td>2024</td>\n",
       "      <td>9</td>\n",
       "      <td>24</td>\n",
       "      <td>2</td>\n",
       "      <td>24.527517</td>\n",
       "      <td>2024-09-24 02:00:00</td>\n",
       "    </tr>\n",
       "    <tr>\n",
       "      <th>95163</th>\n",
       "      <td>23.888889</td>\n",
       "      <td>75</td>\n",
       "      <td>1</td>\n",
       "      <td>29.65</td>\n",
       "      <td>100</td>\n",
       "      <td>2024</td>\n",
       "      <td>9</td>\n",
       "      <td>24</td>\n",
       "      <td>3</td>\n",
       "      <td>24.921774</td>\n",
       "      <td>2024-09-24 03:00:00</td>\n",
       "    </tr>\n",
       "    <tr>\n",
       "      <th>95164</th>\n",
       "      <td>23.888889</td>\n",
       "      <td>75</td>\n",
       "      <td>1</td>\n",
       "      <td>29.65</td>\n",
       "      <td>94</td>\n",
       "      <td>2024</td>\n",
       "      <td>9</td>\n",
       "      <td>24</td>\n",
       "      <td>4</td>\n",
       "      <td>24.975592</td>\n",
       "      <td>2024-09-24 04:00:00</td>\n",
       "    </tr>\n",
       "  </tbody>\n",
       "</table>\n",
       "<p>19033 rows × 11 columns</p>\n",
       "</div>"
      ],
      "text/plain": [
       "       temp_celsius  temp_fahrenheit  wind_speed_mph  pressure  humidity(%)  \\\n",
       "76132     25.000000               77               3     29.68           94   \n",
       "76133     25.000000               77               1     29.68           94   \n",
       "76134     25.000000               77               1     29.68           94   \n",
       "76135     25.000000               77               1     29.68           94   \n",
       "76136     25.000000               77               2     29.71           94   \n",
       "...             ...              ...             ...       ...          ...   \n",
       "95160     25.000000               77               1     29.71           89   \n",
       "95161     25.000000               77               1     29.68           89   \n",
       "95162     23.888889               75               1     29.65          100   \n",
       "95163     23.888889               75               1     29.65          100   \n",
       "95164     23.888889               75               1     29.65           94   \n",
       "\n",
       "       Year  Month  Day  Hour  temp_pred                date  \n",
       "76132  2022      9    8     3  23.853918 2022-09-08 03:00:00  \n",
       "76133  2022      9    8     4  23.780584 2022-09-08 04:00:00  \n",
       "76134  2022      9    8     5  23.825888 2022-09-08 05:00:00  \n",
       "76135  2022      9    8     6  23.763998 2022-09-08 06:00:00  \n",
       "76136  2022      9    8     7  23.581900 2022-09-08 07:00:00  \n",
       "...     ...    ...  ...   ...        ...                 ...  \n",
       "95160  2024      9   24     0  24.917669 2024-09-24 00:00:00  \n",
       "95161  2024      9   24     1  25.182287 2024-09-24 01:00:00  \n",
       "95162  2024      9   24     2  24.527517 2024-09-24 02:00:00  \n",
       "95163  2024      9   24     3  24.921774 2024-09-24 03:00:00  \n",
       "95164  2024      9   24     4  24.975592 2024-09-24 04:00:00  \n",
       "\n",
       "[19033 rows x 11 columns]"
      ]
     },
     "execution_count": 30,
     "metadata": {},
     "output_type": "execute_result"
    }
   ],
   "source": [
    "new_df = df_new.iloc[test_n_start:].copy()  # Use the test set indices only\n",
    "new_df = new_df.iloc[:len(predictions)]  # Ensure new_df has the same length as predictions\n",
    "new_df[\"temp_pred\"] = predictions\n",
    "new_df[\"date\"] = pd.to_datetime(new_df[['Year', 'Month', 'Day', 'Hour']])\n",
    "new_df"
   ]
  },
  {
   "cell_type": "code",
   "execution_count": 31,
   "id": "b1fd3424-5bf9-4795-a31f-b94e1cbec6ba",
   "metadata": {},
   "outputs": [
    {
     "data": {
      "image/png": "[encoded data removed]",
      "text/plain": [
       "<Figure size 1000x600 with 1 Axes>"
      ]
     },
     "metadata": {},
     "output_type": "display_data"
    }
   ],
   "source": [
    "# Plotting with different colors\n",
    "\n",
    "# Filter the dataframe for the specific year and month\n",
    "df_specific_month = new_df\n",
    "plt.figure(figsize=(10, 6))\n",
    "plt.plot(df_specific_month['date'], df_specific_month['temp_celsius'], marker='o', linestyle='-', color='blue', label='Temperature (C)')\n",
    "plt.plot(df_specific_month['date'], df_specific_month['temp_pred'], marker='o', linestyle='-', color='red', label='Temperature Predicted')\n",
    "plt.title('Comparison of Temperature and Predicted over Time')\n",
    "plt.xlabel('Date')\n",
    "plt.ylabel('Temperature (C)')\n",
    "plt.legend()\n",
    "plt.grid(True)\n",
    "plt.xticks(rotation=45)\n",
    "plt.tight_layout()\n",
    "plt.show()"
   ]
  },
  {
   "cell_type": "code",
   "execution_count": 32,
   "id": "180eaa4d-259b-4cd5-9a9c-8fc5f4a9c895",
   "metadata": {},
   "outputs": [
    {
     "data": {
      "image/png": "[encoded data removed]",
      "text/plain": [
       "<Figure size 1000x600 with 1 Axes>"
      ]
     },
     "metadata": {},
     "output_type": "display_data"
    }
   ],
   "source": [
    "# Plotting with different colors\n",
    "specific_year = 2022\n",
    "specific_month = 12  # May\n",
    "\n",
    "# Filter the dataframe for the specific year and month\n",
    "df_specific_month = new_df[(new_df['date'].dt.year == specific_year)\n",
    "                       & (new_df['date'].dt.month == specific_month)]\n",
    "plt.figure(figsize=(10, 6))\n",
    "plt.plot(df_specific_month['date'], df_specific_month['temp_celsius'], marker='o', linestyle='-', color='blue', label='Temperature (C)')\n",
    "plt.plot(df_specific_month['date'], df_specific_month['temp_pred'], marker='o', linestyle='-', color='red', label='Temperature Predicted')\n",
    "plt.title('Comparison of Temperature and Predicted over Time')\n",
    "plt.xlabel('Date')\n",
    "plt.ylabel('Temperature (C)')\n",
    "plt.legend()\n",
    "plt.grid(True)\n",
    "plt.xticks(rotation=45)\n",
    "plt.tight_layout()\n",
    "plt.show()"
   ]
  },
  {
   "cell_type": "code",
   "execution_count": 39,
   "id": "ed8c7a6c-3c5f-4de2-b912-5403f1784f5b",
   "metadata": {},
   "outputs": [
    {
     "name": "stderr",
     "output_type": "stream",
     "text": [
      "C:\\Users\\Nitro 5\\AppData\\Local\\Programs\\Python\\Python311\\Lib\\site-packages\\keras\\src\\engine\\training.py:3000: UserWarning: You are saving your model as an HDF5 file via `model.save()`. This file format is considered legacy. We recommend using instead the native Keras format, e.g. `model.save('my_model.keras')`.\n",
      "  saving_api.save_model(\n"
     ]
    }
   ],
   "source": [
    "# Save the Keras model\n",
    "model.save('lstm_model_weather_24seq.h5')\n"
   ]
  },
  {
   "cell_type": "code",
   "execution_count": 40,
   "id": "ba6ef704-e742-41d5-ae28-03d927ed1fa1",
   "metadata": {},
   "outputs": [],
   "source": [
    "from tensorflow.keras.models import load_model\n",
    "\n",
    "# Load the saved model\n",
    "loaded_model = load_model('lstm_model_weather_24seq.h5')\n",
    "\n",
    "# Now the loaded_model is ready for predictions or further training\n"
   ]
  },
  {
   "cell_type": "code",
   "execution_count": null,
   "id": "17214486-4eb8-41e4-b08c-428d0a2da3c8",
   "metadata": {},
   "outputs": [],
   "source": []
  }
 ],
 "metadata": {
  "kernelspec": {
   "display_name": "Python 3 (ipykernel)",
   "language": "python",
   "name": "python3"
  },
  "language_info": {
   "codemirror_mode": {
    "name": "ipython",
    "version": 3
   },
   "file_extension": ".py",
   "mimetype": "text/x-python",
   "name": "python",
   "nbconvert_exporter": "python",
   "pygments_lexer": "ipython3",
   "version": "3.11.3"
  }
 },
 "nbformat": 4,
 "nbformat_minor": 5
}
